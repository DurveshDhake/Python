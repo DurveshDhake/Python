{
 "cells": [
  {
   "cell_type": "code",
   "execution_count": 2,
   "id": "35b8c2fe",
   "metadata": {},
   "outputs": [
    {
     "name": "stdout",
     "output_type": "stream",
     "text": [
      "Hello World\n"
     ]
    }
   ],
   "source": [
    "print(\"Hello World\")"
   ]
  },
  {
   "cell_type": "code",
   "execution_count": 3,
   "id": "700995bd",
   "metadata": {},
   "outputs": [
    {
     "name": "stdout",
     "output_type": "stream",
     "text": [
      "Durvesh\n"
     ]
    }
   ],
   "source": [
    "print(\"Durvesh\")"
   ]
  },
  {
   "cell_type": "code",
   "execution_count": 5,
   "id": "47b50095",
   "metadata": {},
   "outputs": [
    {
     "ename": "NameError",
     "evalue": "name 'Print' is not defined",
     "output_type": "error",
     "traceback": [
      "\u001b[1;31m---------------------------------------------------------------------------\u001b[0m",
      "\u001b[1;31mNameError\u001b[0m                                 Traceback (most recent call last)",
      "\u001b[1;32m~\\AppData\\Local\\Temp\\ipykernel_30908\\2792765033.py\u001b[0m in \u001b[0;36m<module>\u001b[1;34m\u001b[0m\n\u001b[1;32m----> 1\u001b[1;33m \u001b[0mPrint\u001b[0m\u001b[1;33m(\u001b[0m\u001b[1;34m\"Durvesh Dhake\"\u001b[0m\u001b[1;33m)\u001b[0m\u001b[1;33m\u001b[0m\u001b[1;33m\u001b[0m\u001b[0m\n\u001b[0m",
      "\u001b[1;31mNameError\u001b[0m: name 'Print' is not defined"
     ]
    }
   ],
   "source": [
    "Print(\"Durvesh Dhake\")"
   ]
  },
  {
   "cell_type": "markdown",
   "id": "da656629",
   "metadata": {},
   "source": [
    "### Python is case-sensitive"
   ]
  },
  {
   "cell_type": "code",
   "execution_count": 6,
   "id": "c23d2350",
   "metadata": {},
   "outputs": [
    {
     "ename": "NameError",
     "evalue": "name 'Durvesh' is not defined",
     "output_type": "error",
     "traceback": [
      "\u001b[1;31m---------------------------------------------------------------------------\u001b[0m",
      "\u001b[1;31mNameError\u001b[0m                                 Traceback (most recent call last)",
      "\u001b[1;32m~\\AppData\\Local\\Temp\\ipykernel_30908\\4131798514.py\u001b[0m in \u001b[0;36m<module>\u001b[1;34m\u001b[0m\n\u001b[1;32m----> 1\u001b[1;33m \u001b[0mprint\u001b[0m\u001b[1;33m(\u001b[0m\u001b[0mDurvesh\u001b[0m\u001b[1;33m)\u001b[0m\u001b[1;33m\u001b[0m\u001b[1;33m\u001b[0m\u001b[0m\n\u001b[0m",
      "\u001b[1;31mNameError\u001b[0m: name 'Durvesh' is not defined"
     ]
    }
   ],
   "source": [
    "print(Durvesh)\n"
   ]
  },
  {
   "cell_type": "code",
   "execution_count": 7,
   "id": "dd3dbcb8",
   "metadata": {},
   "outputs": [
    {
     "name": "stdout",
     "output_type": "stream",
     "text": [
      "10\n"
     ]
    }
   ],
   "source": [
    "print(10)"
   ]
  },
  {
   "cell_type": "code",
   "execution_count": 9,
   "id": "968e8e3c",
   "metadata": {},
   "outputs": [
    {
     "name": "stdout",
     "output_type": "stream",
     "text": [
      "Durvesh\n"
     ]
    }
   ],
   "source": [
    "print('Durvesh')"
   ]
  },
  {
   "cell_type": "markdown",
   "id": "776b4367",
   "metadata": {},
   "source": [
    "### String(text) should be in inverted comma\n"
   ]
  },
  {
   "cell_type": "markdown",
   "id": "3ee012e6",
   "metadata": {},
   "source": [
    "### Shortcut Keys"
   ]
  },
  {
   "cell_type": "markdown",
   "id": "e3a485a3",
   "metadata": {},
   "source": [
    "#### Run--> Shift + Enter \n",
    "#### Add a cell above --> a\n",
    "#### Add a cell below--> b\n",
    "#### Delet a cell --> x"
   ]
  },
  {
   "cell_type": "code",
   "execution_count": 11,
   "id": "3b53874c",
   "metadata": {},
   "outputs": [
    {
     "data": {
      "text/plain": [
       "int"
      ]
     },
     "execution_count": 11,
     "metadata": {},
     "output_type": "execute_result"
    }
   ],
   "source": [
    "x=10\n",
    "type(x)"
   ]
  },
  {
   "cell_type": "code",
   "execution_count": 12,
   "id": "c3eaf4ce",
   "metadata": {},
   "outputs": [
    {
     "data": {
      "text/plain": [
       "float"
      ]
     },
     "execution_count": 12,
     "metadata": {},
     "output_type": "execute_result"
    }
   ],
   "source": [
    "x=10.5\n",
    "type(x)"
   ]
  },
  {
   "cell_type": "code",
   "execution_count": 17,
   "id": "a7e94b43",
   "metadata": {},
   "outputs": [
    {
     "data": {
      "text/plain": [
       "str"
      ]
     },
     "execution_count": 17,
     "metadata": {},
     "output_type": "execute_result"
    }
   ],
   "source": [
    "course=\"Data Science\"\n",
    "type(course)"
   ]
  },
  {
   "cell_type": "markdown",
   "id": "46ba24fa",
   "metadata": {},
   "source": [
    "### Variable"
   ]
  },
  {
   "cell_type": "code",
   "execution_count": 15,
   "id": "78f50330",
   "metadata": {},
   "outputs": [
    {
     "data": {
      "text/plain": [
       "('DS', 'BA', 'ML')"
      ]
     },
     "execution_count": 15,
     "metadata": {},
     "output_type": "execute_result"
    }
   ],
   "source": [
    "coursenames=\"DS\",\"BA\",\"ML\"\n",
    "coursenames"
   ]
  },
  {
   "cell_type": "code",
   "execution_count": 16,
   "id": "39608200",
   "metadata": {},
   "outputs": [
    {
     "ename": "SyntaxError",
     "evalue": "invalid syntax (3781394567.py, line 1)",
     "output_type": "error",
     "traceback": [
      "\u001b[1;36m  File \u001b[1;32m\"C:\\Users\\durve\\AppData\\Local\\Temp\\ipykernel_30908\\3781394567.py\"\u001b[1;36m, line \u001b[1;32m1\u001b[0m\n\u001b[1;33m    course names=\"DS\",\"BA\",\"ML\"\u001b[0m\n\u001b[1;37m           ^\u001b[0m\n\u001b[1;31mSyntaxError\u001b[0m\u001b[1;31m:\u001b[0m invalid syntax\n"
     ]
    }
   ],
   "source": [
    "course names=\"DS\",\"BA\",\"ML\"\n",
    "course names"
   ]
  },
  {
   "cell_type": "markdown",
   "id": "1628807e",
   "metadata": {},
   "source": [
    "### Space is not allowed"
   ]
  },
  {
   "cell_type": "markdown",
   "id": "7727e4bc",
   "metadata": {},
   "source": [
    "### Only Underscore is allowed"
   ]
  },
  {
   "cell_type": "markdown",
   "id": "181bbe62",
   "metadata": {},
   "source": [
    "### Variable name should not start with number\n",
    "### It should start with A-Z,a-z or underscore"
   ]
  },
  {
   "cell_type": "code",
   "execution_count": 19,
   "id": "b03e44f1",
   "metadata": {},
   "outputs": [
    {
     "data": {
      "text/plain": [
       "('DS', 'BA', 'ML')"
      ]
     },
     "execution_count": 19,
     "metadata": {},
     "output_type": "execute_result"
    }
   ],
   "source": [
    "course_names=\"DS\",\"BA\",\"ML\"\n",
    "course_names"
   ]
  },
  {
   "cell_type": "code",
   "execution_count": 20,
   "id": "367aa846",
   "metadata": {},
   "outputs": [
    {
     "data": {
      "text/plain": [
       "('DS', 'BA', 'ML')"
      ]
     },
     "execution_count": 20,
     "metadata": {},
     "output_type": "execute_result"
    }
   ],
   "source": [
    "coursenames3=\"DS\",\"BA\",\"ML\"\n",
    "coursenames3"
   ]
  },
  {
   "cell_type": "code",
   "execution_count": 21,
   "id": "541528ae",
   "metadata": {},
   "outputs": [
    {
     "ename": "SyntaxError",
     "evalue": "invalid syntax (2968751027.py, line 1)",
     "output_type": "error",
     "traceback": [
      "\u001b[1;36m  File \u001b[1;32m\"C:\\Users\\durve\\AppData\\Local\\Temp\\ipykernel_30908\\2968751027.py\"\u001b[1;36m, line \u001b[1;32m1\u001b[0m\n\u001b[1;33m    3coursenames=\"DS\",\"BA\",\"ML\"\u001b[0m\n\u001b[1;37m     ^\u001b[0m\n\u001b[1;31mSyntaxError\u001b[0m\u001b[1;31m:\u001b[0m invalid syntax\n"
     ]
    }
   ],
   "source": [
    "3coursenames=\"DS\",\"BA\",\"ML\"\n",
    "3coursenames"
   ]
  },
  {
   "cell_type": "code",
   "execution_count": null,
   "id": "a2c5ccd1",
   "metadata": {},
   "outputs": [],
   "source": []
  }
 ],
 "metadata": {
  "kernelspec": {
   "display_name": "Python 3 (ipykernel)",
   "language": "python",
   "name": "python3"
  },
  "language_info": {
   "codemirror_mode": {
    "name": "ipython",
    "version": 3
   },
   "file_extension": ".py",
   "mimetype": "text/x-python",
   "name": "python",
   "nbconvert_exporter": "python",
   "pygments_lexer": "ipython3",
   "version": "3.9.13"
  }
 },
 "nbformat": 4,
 "nbformat_minor": 5
}
