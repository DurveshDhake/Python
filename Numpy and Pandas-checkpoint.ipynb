{
 "cells": [
  {
   "cell_type": "markdown",
   "id": "a08505d4",
   "metadata": {},
   "source": [
    "### Numpy: Package for Multidimensional Array"
   ]
  },
  {
   "cell_type": "code",
   "execution_count": 1,
   "id": "0b9eeadc",
   "metadata": {},
   "outputs": [],
   "source": [
    "import numpy as np\n"
   ]
  },
  {
   "cell_type": "code",
   "execution_count": 2,
   "id": "8591f064",
   "metadata": {},
   "outputs": [
    {
     "data": {
      "text/plain": [
       "array([1, 2, 3])"
      ]
     },
     "execution_count": 2,
     "metadata": {},
     "output_type": "execute_result"
    }
   ],
   "source": [
    "arr=np.array([1,2,3])\n",
    "arr"
   ]
  },
  {
   "cell_type": "code",
   "execution_count": 6,
   "id": "2e11f9f0",
   "metadata": {},
   "outputs": [
    {
     "data": {
      "text/plain": [
       "array([[1, 2, 3],\n",
       "       [4, 5, 6],\n",
       "       [7, 8, 9]])"
      ]
     },
     "execution_count": 6,
     "metadata": {},
     "output_type": "execute_result"
    }
   ],
   "source": [
    "list_of_lists=[[1,2,3],[4,5,6],[7,8,9]]\n",
    "np.array(list_of_lists)"
   ]
  },
  {
   "cell_type": "code",
   "execution_count": 7,
   "id": "05100451",
   "metadata": {},
   "outputs": [
    {
     "data": {
      "text/plain": [
       "array([1, 2, 3, 4, 5, 6, 7, 8, 9])"
      ]
     },
     "execution_count": 7,
     "metadata": {},
     "output_type": "execute_result"
    }
   ],
   "source": [
    "np.arange(1,10)"
   ]
  },
  {
   "cell_type": "code",
   "execution_count": 8,
   "id": "70d38b34",
   "metadata": {},
   "outputs": [
    {
     "data": {
      "text/plain": [
       "array([ 0,  1,  2,  3,  4,  5,  6,  7,  8,  9, 10, 11, 12, 13, 14, 15, 16,\n",
       "       17, 18, 19, 20, 21, 22, 23, 24, 25, 26, 27, 28, 29, 30, 31, 32, 33,\n",
       "       34, 35, 36, 37, 38, 39, 40, 41, 42, 43, 44, 45, 46, 47, 48, 49, 50,\n",
       "       51, 52, 53, 54, 55, 56, 57, 58, 59, 60, 61, 62, 63, 64, 65, 66, 67,\n",
       "       68, 69, 70, 71, 72, 73, 74, 75, 76, 77, 78, 79, 80, 81, 82, 83, 84,\n",
       "       85, 86, 87, 88, 89, 90, 91, 92, 93, 94, 95, 96, 97, 98, 99])"
      ]
     },
     "execution_count": 8,
     "metadata": {},
     "output_type": "execute_result"
    }
   ],
   "source": [
    "np.arange(100)"
   ]
  },
  {
   "cell_type": "code",
   "execution_count": 9,
   "id": "e17ef969",
   "metadata": {},
   "outputs": [
    {
     "data": {
      "text/plain": [
       "array([ 1,  6, 11, 16, 21, 26, 31, 36, 41])"
      ]
     },
     "execution_count": 9,
     "metadata": {},
     "output_type": "execute_result"
    }
   ],
   "source": [
    "np.arange(1,46,5)"
   ]
  },
  {
   "cell_type": "code",
   "execution_count": 13,
   "id": "2094de3a",
   "metadata": {},
   "outputs": [
    {
     "data": {
      "text/plain": [
       "array([0., 0., 0., 0., 0., 0., 0., 0., 0., 0.])"
      ]
     },
     "execution_count": 13,
     "metadata": {},
     "output_type": "execute_result"
    }
   ],
   "source": [
    "np.zeros(10)"
   ]
  },
  {
   "cell_type": "code",
   "execution_count": 17,
   "id": "16c297ab",
   "metadata": {},
   "outputs": [
    {
     "data": {
      "text/plain": [
       "array([0, 0, 0, 0, 0, 0, 0, 0, 0, 0])"
      ]
     },
     "execution_count": 17,
     "metadata": {},
     "output_type": "execute_result"
    }
   ],
   "source": [
    "np.zeros(10,int)"
   ]
  },
  {
   "cell_type": "code",
   "execution_count": 15,
   "id": "8220673b",
   "metadata": {},
   "outputs": [
    {
     "data": {
      "text/plain": [
       "array([1., 1., 1., 1., 1., 1., 1., 1., 1., 1., 1., 1., 1., 1., 1., 1., 1.,\n",
       "       1., 1., 1., 1., 1., 1., 1., 1., 1., 1., 1., 1., 1., 1., 1., 1., 1.,\n",
       "       1., 1., 1., 1., 1., 1., 1., 1., 1., 1., 1., 1., 1., 1., 1., 1., 1.,\n",
       "       1., 1., 1., 1., 1., 1., 1., 1., 1., 1., 1., 1., 1., 1., 1., 1., 1.,\n",
       "       1., 1., 1., 1., 1., 1., 1., 1., 1., 1., 1., 1., 1., 1., 1., 1., 1.,\n",
       "       1., 1., 1., 1., 1., 1., 1., 1., 1., 1., 1., 1., 1., 1., 1.])"
      ]
     },
     "execution_count": 15,
     "metadata": {},
     "output_type": "execute_result"
    }
   ],
   "source": [
    "np.ones(100)"
   ]
  },
  {
   "cell_type": "code",
   "execution_count": 16,
   "id": "61e80ac4",
   "metadata": {},
   "outputs": [
    {
     "data": {
      "text/plain": [
       "array([1, 1, 1, 1, 1, 1, 1, 1, 1, 1, 1, 1, 1, 1, 1, 1, 1, 1, 1, 1, 1, 1,\n",
       "       1, 1, 1, 1, 1, 1, 1, 1, 1, 1, 1, 1, 1, 1, 1, 1, 1, 1, 1, 1, 1, 1,\n",
       "       1, 1, 1, 1, 1, 1, 1, 1, 1, 1, 1, 1, 1, 1, 1, 1, 1, 1, 1, 1, 1, 1,\n",
       "       1, 1, 1, 1, 1, 1, 1, 1, 1, 1, 1, 1, 1, 1, 1, 1, 1, 1, 1, 1, 1, 1,\n",
       "       1, 1, 1, 1, 1, 1, 1, 1, 1, 1, 1, 1])"
      ]
     },
     "execution_count": 16,
     "metadata": {},
     "output_type": "execute_result"
    }
   ],
   "source": [
    "np.ones(100,int)"
   ]
  },
  {
   "cell_type": "code",
   "execution_count": 19,
   "id": "39a6bf7f",
   "metadata": {},
   "outputs": [
    {
     "data": {
      "text/plain": [
       "array([[1., 1., 1., 1., 1.],\n",
       "       [1., 1., 1., 1., 1.]])"
      ]
     },
     "execution_count": 19,
     "metadata": {},
     "output_type": "execute_result"
    }
   ],
   "source": [
    "np.ones((2,5))"
   ]
  },
  {
   "cell_type": "markdown",
   "id": "1b223c00",
   "metadata": {},
   "source": [
    "### Create an array of zeros with 2 rows and 10 columns"
   ]
  },
  {
   "cell_type": "code",
   "execution_count": 27,
   "id": "309597bf",
   "metadata": {},
   "outputs": [],
   "source": [
    "import numpy as np\n"
   ]
  },
  {
   "cell_type": "code",
   "execution_count": 28,
   "id": "d5b3dac6",
   "metadata": {},
   "outputs": [
    {
     "data": {
      "text/plain": [
       "array([0.  , 0.25, 0.5 , 0.75, 1.  ])"
      ]
     },
     "execution_count": 28,
     "metadata": {},
     "output_type": "execute_result"
    }
   ],
   "source": [
    "np.linspace(0,1,5)"
   ]
  },
  {
   "cell_type": "code",
   "execution_count": 29,
   "id": "dbd3e676",
   "metadata": {},
   "outputs": [
    {
     "data": {
      "text/plain": [
       "array([ 0.        ,  2.85714286,  5.71428571,  8.57142857, 11.42857143,\n",
       "       14.28571429, 17.14285714, 20.        ])"
      ]
     },
     "execution_count": 29,
     "metadata": {},
     "output_type": "execute_result"
    }
   ],
   "source": [
    "np.linspace(0,20,8)"
   ]
  },
  {
   "cell_type": "code",
   "execution_count": 32,
   "id": "b5a34545",
   "metadata": {},
   "outputs": [
    {
     "data": {
      "text/plain": [
       "array([[1., 0., 0., 0., 0., 0., 0., 0., 0., 0.],\n",
       "       [0., 1., 0., 0., 0., 0., 0., 0., 0., 0.],\n",
       "       [0., 0., 1., 0., 0., 0., 0., 0., 0., 0.],\n",
       "       [0., 0., 0., 1., 0., 0., 0., 0., 0., 0.],\n",
       "       [0., 0., 0., 0., 1., 0., 0., 0., 0., 0.],\n",
       "       [0., 0., 0., 0., 0., 1., 0., 0., 0., 0.],\n",
       "       [0., 0., 0., 0., 0., 0., 1., 0., 0., 0.],\n",
       "       [0., 0., 0., 0., 0., 0., 0., 1., 0., 0.],\n",
       "       [0., 0., 0., 0., 0., 0., 0., 0., 1., 0.],\n",
       "       [0., 0., 0., 0., 0., 0., 0., 0., 0., 1.]])"
      ]
     },
     "execution_count": 32,
     "metadata": {},
     "output_type": "execute_result"
    }
   ],
   "source": [
    "np.eye(10)"
   ]
  },
  {
   "cell_type": "code",
   "execution_count": 33,
   "id": "c594fb9b",
   "metadata": {},
   "outputs": [
    {
     "data": {
      "text/plain": [
       "array([[0.70435725, 0.15850244],\n",
       "       [0.1429118 , 0.82820397],\n",
       "       [0.17560424, 0.81638793]])"
      ]
     },
     "execution_count": 33,
     "metadata": {},
     "output_type": "execute_result"
    }
   ],
   "source": [
    "np.random.rand(3,2)"
   ]
  },
  {
   "cell_type": "code",
   "execution_count": 34,
   "id": "cbc68f28",
   "metadata": {},
   "outputs": [
    {
     "data": {
      "text/plain": [
       "array([[ 1.16270751,  0.41914618],\n",
       "       [-0.28492687,  0.5249613 ],\n",
       "       [-0.21003188,  0.59252303]])"
      ]
     },
     "execution_count": 34,
     "metadata": {},
     "output_type": "execute_result"
    }
   ],
   "source": [
    "np.random.randn(3,2)"
   ]
  },
  {
   "cell_type": "code",
   "execution_count": 38,
   "id": "4c5fb99a",
   "metadata": {},
   "outputs": [
    {
     "data": {
      "text/plain": [
       "54"
      ]
     },
     "execution_count": 38,
     "metadata": {},
     "output_type": "execute_result"
    }
   ],
   "source": [
    "np.random.randint(34,100)"
   ]
  },
  {
   "cell_type": "code",
   "execution_count": 45,
   "id": "2702988a",
   "metadata": {},
   "outputs": [
    {
     "data": {
      "text/plain": [
       "array([34, 43, 25, 29, 23, 53, 39, 34, 46, 42, 26, 26, 25, 48, 49, 30, 47,\n",
       "       52, 24, 29, 41, 37, 23, 32, 29, 32, 47, 55, 28, 35, 43, 55, 42, 21,\n",
       "       21, 54, 55, 37, 32, 22, 31, 33, 39, 35, 34, 37, 31, 24, 31, 23, 40,\n",
       "       54, 25, 32, 44, 26, 41, 39, 45, 40, 36, 44, 30, 23, 30, 26, 38, 38,\n",
       "       44, 34, 52, 52, 24, 43, 44, 24, 55, 55, 53, 38, 37, 50, 31, 40, 23,\n",
       "       46, 32, 31, 50, 36, 54, 28, 46, 22, 24, 32, 31, 21, 32, 46])"
      ]
     },
     "execution_count": 45,
     "metadata": {},
     "output_type": "execute_result"
    }
   ],
   "source": [
    "np.random.randint(20,56,100)"
   ]
  },
  {
   "cell_type": "code",
   "execution_count": 46,
   "id": "cb6b3025",
   "metadata": {
    "scrolled": false
   },
   "outputs": [
    {
     "data": {
      "text/plain": [
       "array([ 0,  1,  2,  3,  4,  5,  6,  7,  8,  9, 10, 11, 12, 13, 14, 15, 16,\n",
       "       17, 18, 19, 20, 21, 22, 23, 24, 25, 26, 27, 28, 29])"
      ]
     },
     "execution_count": 46,
     "metadata": {},
     "output_type": "execute_result"
    }
   ],
   "source": [
    "sample_array=np.arange(30)\n",
    "sample_array"
   ]
  },
  {
   "cell_type": "code",
   "execution_count": 67,
   "id": "0aeb73eb",
   "metadata": {},
   "outputs": [
    {
     "data": {
      "text/plain": [
       "array([10, 92, 66, 10, 61,  6, 70, 58, 87, 29, 87, 42, 53,  0, 31, 37, 93,\n",
       "       21, 97, 36])"
      ]
     },
     "execution_count": 67,
     "metadata": {},
     "output_type": "execute_result"
    }
   ],
   "source": [
    "rand_array=np.random.randint(0,100,20)\n",
    "rand_array"
   ]
  },
  {
   "cell_type": "code",
   "execution_count": 61,
   "id": "c5c09c1b",
   "metadata": {},
   "outputs": [
    {
     "data": {
      "text/plain": [
       "array([[ 0,  1,  2,  3,  4],\n",
       "       [ 5,  6,  7,  8,  9],\n",
       "       [10, 11, 12, 13, 14],\n",
       "       [15, 16, 17, 18, 19],\n",
       "       [20, 21, 22, 23, 24],\n",
       "       [25, 26, 27, 28, 29]])"
      ]
     },
     "execution_count": 61,
     "metadata": {},
     "output_type": "execute_result"
    }
   ],
   "source": [
    "sample_array.reshape(6,5)"
   ]
  },
  {
   "cell_type": "code",
   "execution_count": 68,
   "id": "c4521970",
   "metadata": {
    "scrolled": true
   },
   "outputs": [
    {
     "data": {
      "text/plain": [
       "0"
      ]
     },
     "execution_count": 68,
     "metadata": {},
     "output_type": "execute_result"
    }
   ],
   "source": [
    "rand_array.min()"
   ]
  },
  {
   "cell_type": "code",
   "execution_count": 69,
   "id": "a9ed80cf",
   "metadata": {},
   "outputs": [
    {
     "data": {
      "text/plain": [
       "13"
      ]
     },
     "execution_count": 69,
     "metadata": {},
     "output_type": "execute_result"
    }
   ],
   "source": [
    "rand_array.argmin()"
   ]
  },
  {
   "cell_type": "code",
   "execution_count": 70,
   "id": "6b384968",
   "metadata": {},
   "outputs": [
    {
     "data": {
      "text/plain": [
       "dtype('int32')"
      ]
     },
     "execution_count": 70,
     "metadata": {},
     "output_type": "execute_result"
    }
   ],
   "source": [
    "sample_array.dtype"
   ]
  },
  {
   "cell_type": "code",
   "execution_count": 72,
   "id": "f22fec4c",
   "metadata": {},
   "outputs": [
    {
     "data": {
      "text/plain": [
       "array([[1., 0., 0., 0., 0.],\n",
       "       [0., 1., 0., 0., 0.],\n",
       "       [0., 0., 1., 0., 0.],\n",
       "       [0., 0., 0., 1., 0.],\n",
       "       [0., 0., 0., 0., 1.]])"
      ]
     },
     "execution_count": 72,
     "metadata": {},
     "output_type": "execute_result"
    }
   ],
   "source": [
    "a=np.eye(5)\n",
    "a\n"
   ]
  },
  {
   "cell_type": "code",
   "execution_count": 73,
   "id": "d6209d0e",
   "metadata": {},
   "outputs": [
    {
     "data": {
      "text/plain": [
       "array([[1., 0., 0., 0., 0.],\n",
       "       [0., 1., 0., 0., 0.],\n",
       "       [0., 0., 1., 0., 0.],\n",
       "       [0., 0., 0., 1., 0.],\n",
       "       [0., 0., 0., 0., 1.]])"
      ]
     },
     "execution_count": 73,
     "metadata": {},
     "output_type": "execute_result"
    }
   ],
   "source": [
    "a.T"
   ]
  },
  {
   "cell_type": "code",
   "execution_count": 75,
   "id": "5ce64bdb",
   "metadata": {},
   "outputs": [
    {
     "data": {
      "text/plain": [
       "array([[0.64778069, 0.58005792, 0.20459477],\n",
       "       [0.88420554, 0.10205861, 0.83905576]])"
      ]
     },
     "execution_count": 75,
     "metadata": {},
     "output_type": "execute_result"
    }
   ],
   "source": [
    "a=np.random.rand(2,3)\n",
    "a"
   ]
  },
  {
   "cell_type": "code",
   "execution_count": 76,
   "id": "beb32465",
   "metadata": {},
   "outputs": [
    {
     "data": {
      "text/plain": [
       "array([[0.64778069, 0.88420554],\n",
       "       [0.58005792, 0.10205861],\n",
       "       [0.20459477, 0.83905576]])"
      ]
     },
     "execution_count": 76,
     "metadata": {},
     "output_type": "execute_result"
    }
   ],
   "source": [
    "a.T"
   ]
  },
  {
   "cell_type": "code",
   "execution_count": 79,
   "id": "6cc172d3",
   "metadata": {},
   "outputs": [
    {
     "data": {
      "text/plain": [
       "array([10, 11, 12, 13, 14, 15, 16, 17, 18, 19, 20])"
      ]
     },
     "execution_count": 79,
     "metadata": {},
     "output_type": "execute_result"
    }
   ],
   "source": [
    "sample_array=np.arange(10,21)\n",
    "sample_array"
   ]
  },
  {
   "cell_type": "code",
   "execution_count": 81,
   "id": "02b50193",
   "metadata": {},
   "outputs": [
    {
     "data": {
      "text/plain": [
       "13"
      ]
     },
     "execution_count": 81,
     "metadata": {},
     "output_type": "execute_result"
    }
   ],
   "source": [
    "sample_array[3]"
   ]
  },
  {
   "cell_type": "code",
   "execution_count": 82,
   "id": "83c73da4",
   "metadata": {},
   "outputs": [
    {
     "data": {
      "text/plain": [
       "array([13, 14, 15, 16])"
      ]
     },
     "execution_count": 82,
     "metadata": {},
     "output_type": "execute_result"
    }
   ],
   "source": [
    "sample_array[3:7]"
   ]
  },
  {
   "cell_type": "code",
   "execution_count": 84,
   "id": "4758936c",
   "metadata": {},
   "outputs": [
    {
     "data": {
      "text/plain": [
       "array([ 10, 100, 100, 100,  14,  15,  16,  17,  18,  19,  20])"
      ]
     },
     "execution_count": 84,
     "metadata": {},
     "output_type": "execute_result"
    }
   ],
   "source": [
    "sample_array[1:4]=100\n",
    "sample_array"
   ]
  },
  {
   "cell_type": "code",
   "execution_count": 87,
   "id": "79400090",
   "metadata": {},
   "outputs": [
    {
     "data": {
      "text/plain": [
       "array([10, 11, 12, 13, 14, 15, 16, 17, 18, 19, 20])"
      ]
     },
     "execution_count": 87,
     "metadata": {},
     "output_type": "execute_result"
    }
   ],
   "source": [
    "sample_array=np.arange(10,21)\n",
    "sample_array"
   ]
  },
  {
   "cell_type": "code",
   "execution_count": 90,
   "id": "d44f6ce4",
   "metadata": {},
   "outputs": [
    {
     "data": {
      "text/plain": [
       "array([10, 11, 12, 13, 14, 15, 16])"
      ]
     },
     "execution_count": 90,
     "metadata": {},
     "output_type": "execute_result"
    }
   ],
   "source": [
    "sample_array[0:7]"
   ]
  },
  {
   "cell_type": "code",
   "execution_count": 91,
   "id": "bfa7bb66",
   "metadata": {},
   "outputs": [
    {
     "data": {
      "text/plain": [
       "array([10, 11, 12, 13, 14, 15, 16])"
      ]
     },
     "execution_count": 91,
     "metadata": {},
     "output_type": "execute_result"
    }
   ],
   "source": [
    "subset_sample_array=sample_array[0:7]\n",
    "subset_sample_array"
   ]
  },
  {
   "cell_type": "code",
   "execution_count": 92,
   "id": "12d14735",
   "metadata": {},
   "outputs": [
    {
     "data": {
      "text/plain": [
       "array([  10, 1001, 1001, 1001,   14,   15,   16])"
      ]
     },
     "execution_count": 92,
     "metadata": {},
     "output_type": "execute_result"
    }
   ],
   "source": [
    "subset_sample_array[1:4]=1001\n",
    "subset_sample_array"
   ]
  },
  {
   "cell_type": "code",
   "execution_count": 96,
   "id": "45819b0f",
   "metadata": {},
   "outputs": [
    {
     "data": {
      "text/plain": [
       "array([1001, 1001, 1001, 1001, 1001, 1001, 1001])"
      ]
     },
     "execution_count": 96,
     "metadata": {},
     "output_type": "execute_result"
    }
   ],
   "source": [
    "subset_sample_array[:]=1001\n",
    "subset_sample_array"
   ]
  },
  {
   "cell_type": "markdown",
   "id": "c879de58",
   "metadata": {},
   "source": [
    "## Two-Dimensional Array"
   ]
  },
  {
   "cell_type": "code",
   "execution_count": null,
   "id": "8fe3ef89",
   "metadata": {},
   "outputs": [],
   "source": [
    "import numpy as np\n"
   ]
  },
  {
   "cell_type": "code",
   "execution_count": 98,
   "id": "78c90a15",
   "metadata": {},
   "outputs": [
    {
     "data": {
      "text/plain": [
       "array([[50, 20,  1, 23],\n",
       "       [24, 23, 21, 33],\n",
       "       [56, 76, 24,  7]])"
      ]
     },
     "execution_count": 98,
     "metadata": {},
     "output_type": "execute_result"
    }
   ],
   "source": [
    "sample_matrix=np.array(([50,20,1,23],[24,23,21,33],[56,76,24,7]))\n",
    "sample_matrix"
   ]
  },
  {
   "cell_type": "code",
   "execution_count": 99,
   "id": "dfa513a6",
   "metadata": {},
   "outputs": [
    {
     "data": {
      "text/plain": [
       "1"
      ]
     },
     "execution_count": 99,
     "metadata": {},
     "output_type": "execute_result"
    }
   ],
   "source": [
    "sample_matrix[0][2]"
   ]
  },
  {
   "cell_type": "code",
   "execution_count": 100,
   "id": "9dbfaa94",
   "metadata": {},
   "outputs": [
    {
     "data": {
      "text/plain": [
       "array([56, 76, 24,  7])"
      ]
     },
     "execution_count": 100,
     "metadata": {},
     "output_type": "execute_result"
    }
   ],
   "source": [
    "sample_matrix[2,:]"
   ]
  },
  {
   "cell_type": "code",
   "execution_count": 101,
   "id": "29f9b97b",
   "metadata": {},
   "outputs": [
    {
     "data": {
      "text/plain": [
       "array([56, 76, 24,  7])"
      ]
     },
     "execution_count": 101,
     "metadata": {},
     "output_type": "execute_result"
    }
   ],
   "source": [
    "sample_matrix[2]"
   ]
  },
  {
   "cell_type": "code",
   "execution_count": 103,
   "id": "709affcc",
   "metadata": {},
   "outputs": [
    {
     "data": {
      "text/plain": [
       "array([[23,  1],\n",
       "       [33, 21],\n",
       "       [ 7, 24]])"
      ]
     },
     "execution_count": 103,
     "metadata": {},
     "output_type": "execute_result"
    }
   ],
   "source": [
    "sample_matrix[:,(3,2)]"
   ]
  },
  {
   "cell_type": "markdown",
   "id": "b841b21f",
   "metadata": {},
   "source": [
    "## Selection Techniques"
   ]
  },
  {
   "cell_type": "code",
   "execution_count": 105,
   "id": "37f0adfe",
   "metadata": {},
   "outputs": [
    {
     "data": {
      "text/plain": [
       "array([ 1,  2,  3,  4,  5,  6,  7,  8,  9, 10, 11, 12, 13, 14, 15, 16, 17,\n",
       "       18, 19])"
      ]
     },
     "execution_count": 105,
     "metadata": {},
     "output_type": "execute_result"
    }
   ],
   "source": [
    "sample_array=np.arange(1,20)\n",
    "sample_array"
   ]
  },
  {
   "cell_type": "code",
   "execution_count": 106,
   "id": "94657e06",
   "metadata": {},
   "outputs": [
    {
     "data": {
      "text/plain": [
       "array([ 2,  4,  6,  8, 10, 12, 14, 16, 18, 20, 22, 24, 26, 28, 30, 32, 34,\n",
       "       36, 38])"
      ]
     },
     "execution_count": 106,
     "metadata": {},
     "output_type": "execute_result"
    }
   ],
   "source": [
    "sample_array+sample_array"
   ]
  },
  {
   "cell_type": "code",
   "execution_count": 107,
   "id": "a2464063",
   "metadata": {},
   "outputs": [
    {
     "data": {
      "text/plain": [
       "array([2.71828183e+00, 7.38905610e+00, 2.00855369e+01, 5.45981500e+01,\n",
       "       1.48413159e+02, 4.03428793e+02, 1.09663316e+03, 2.98095799e+03,\n",
       "       8.10308393e+03, 2.20264658e+04, 5.98741417e+04, 1.62754791e+05,\n",
       "       4.42413392e+05, 1.20260428e+06, 3.26901737e+06, 8.88611052e+06,\n",
       "       2.41549528e+07, 6.56599691e+07, 1.78482301e+08])"
      ]
     },
     "execution_count": 107,
     "metadata": {},
     "output_type": "execute_result"
    }
   ],
   "source": [
    "np.exp(sample_array)  #exponential"
   ]
  },
  {
   "cell_type": "code",
   "execution_count": 108,
   "id": "41491369",
   "metadata": {},
   "outputs": [
    {
     "data": {
      "text/plain": [
       "array([1.        , 1.41421356, 1.73205081, 2.        , 2.23606798,\n",
       "       2.44948974, 2.64575131, 2.82842712, 3.        , 3.16227766,\n",
       "       3.31662479, 3.46410162, 3.60555128, 3.74165739, 3.87298335,\n",
       "       4.        , 4.12310563, 4.24264069, 4.35889894])"
      ]
     },
     "execution_count": 108,
     "metadata": {},
     "output_type": "execute_result"
    }
   ],
   "source": [
    "np.sqrt(sample_array)"
   ]
  },
  {
   "cell_type": "code",
   "execution_count": 109,
   "id": "81013e90",
   "metadata": {},
   "outputs": [
    {
     "data": {
      "text/plain": [
       "array([0.        , 0.69314718, 1.09861229, 1.38629436, 1.60943791,\n",
       "       1.79175947, 1.94591015, 2.07944154, 2.19722458, 2.30258509,\n",
       "       2.39789527, 2.48490665, 2.56494936, 2.63905733, 2.7080502 ,\n",
       "       2.77258872, 2.83321334, 2.89037176, 2.94443898])"
      ]
     },
     "execution_count": 109,
     "metadata": {},
     "output_type": "execute_result"
    }
   ],
   "source": [
    "np.log(sample_array)"
   ]
  },
  {
   "cell_type": "code",
   "execution_count": 110,
   "id": "1a33cd7c",
   "metadata": {},
   "outputs": [
    {
     "data": {
      "text/plain": [
       "19"
      ]
     },
     "execution_count": 110,
     "metadata": {},
     "output_type": "execute_result"
    }
   ],
   "source": [
    "np.max(sample_array)"
   ]
  },
  {
   "cell_type": "code",
   "execution_count": 111,
   "id": "3bd28cce",
   "metadata": {},
   "outputs": [
    {
     "data": {
      "text/plain": [
       "1"
      ]
     },
     "execution_count": 111,
     "metadata": {},
     "output_type": "execute_result"
    }
   ],
   "source": [
    "np.min(sample_array)"
   ]
  },
  {
   "cell_type": "code",
   "execution_count": 112,
   "id": "ce262bad",
   "metadata": {},
   "outputs": [
    {
     "data": {
      "text/plain": [
       "0"
      ]
     },
     "execution_count": 112,
     "metadata": {},
     "output_type": "execute_result"
    }
   ],
   "source": [
    "np.argmin(sample_array)"
   ]
  },
  {
   "cell_type": "code",
   "execution_count": 113,
   "id": "27747b93",
   "metadata": {},
   "outputs": [
    {
     "data": {
      "text/plain": [
       "array([  1,   4,   9,  16,  25,  36,  49,  64,  81, 100, 121, 144, 169,\n",
       "       196, 225, 256, 289, 324, 361], dtype=int32)"
      ]
     },
     "execution_count": 113,
     "metadata": {},
     "output_type": "execute_result"
    }
   ],
   "source": [
    "np.square(sample_array)"
   ]
  },
  {
   "cell_type": "code",
   "execution_count": 114,
   "id": "c3ba25eb",
   "metadata": {},
   "outputs": [
    {
     "data": {
      "text/plain": [
       "5.477225575051661"
      ]
     },
     "execution_count": 114,
     "metadata": {},
     "output_type": "execute_result"
    }
   ],
   "source": [
    "np.std(sample_array)"
   ]
  },
  {
   "cell_type": "code",
   "execution_count": 115,
   "id": "482ebf74",
   "metadata": {},
   "outputs": [
    {
     "data": {
      "text/plain": [
       "30.0"
      ]
     },
     "execution_count": 115,
     "metadata": {},
     "output_type": "execute_result"
    }
   ],
   "source": [
    "np.var(sample_array)"
   ]
  },
  {
   "cell_type": "code",
   "execution_count": 116,
   "id": "ba089b60",
   "metadata": {},
   "outputs": [
    {
     "data": {
      "text/plain": [
       "10.0"
      ]
     },
     "execution_count": 116,
     "metadata": {},
     "output_type": "execute_result"
    }
   ],
   "source": [
    "np.mean(sample_array)"
   ]
  },
  {
   "cell_type": "code",
   "execution_count": 117,
   "id": "0a163b67",
   "metadata": {},
   "outputs": [
    {
     "data": {
      "text/plain": [
       "array([[-1.29455967, -0.17667754, -0.7141157 ,  1.89725952],\n",
       "       [ 0.51887055, -1.72186423,  0.93140144,  1.01783602],\n",
       "       [-0.67755687, -0.61073707, -0.91887434,  0.8747496 ]])"
      ]
     },
     "execution_count": 117,
     "metadata": {},
     "output_type": "execute_result"
    }
   ],
   "source": [
    "array=np.random.randn(3,4)\n",
    "array"
   ]
  },
  {
   "cell_type": "code",
   "execution_count": 118,
   "id": "15e0d121",
   "metadata": {},
   "outputs": [
    {
     "data": {
      "text/plain": [
       "array([[-1.2946, -0.1767, -0.7141,  1.8973],\n",
       "       [ 0.5189, -1.7219,  0.9314,  1.0178],\n",
       "       [-0.6776, -0.6107, -0.9189,  0.8747]])"
      ]
     },
     "execution_count": 118,
     "metadata": {},
     "output_type": "execute_result"
    }
   ],
   "source": [
    "np.round(array,decimals=4)"
   ]
  },
  {
   "cell_type": "code",
   "execution_count": 120,
   "id": "aa358250",
   "metadata": {},
   "outputs": [
    {
     "data": {
      "text/plain": [
       "array(['Football', 'cricket', 'fball', 'golf'], dtype='<U8')"
      ]
     },
     "execution_count": 120,
     "metadata": {},
     "output_type": "execute_result"
    }
   ],
   "source": [
    "sports=np.array(['golf','cricket','fball','cricket','Football'])\n",
    "np.unique(sports)"
   ]
  },
  {
   "cell_type": "markdown",
   "id": "e790e1e3",
   "metadata": {},
   "source": [
    "# Pandas-->"
   ]
  },
  {
   "cell_type": "markdown",
   "id": "119c3240",
   "metadata": {},
   "source": [
    "### To create data \n",
    "### To create table\n",
    "### Manipulation"
   ]
  },
  {
   "cell_type": "code",
   "execution_count": 121,
   "id": "ba70916f",
   "metadata": {},
   "outputs": [],
   "source": [
    "import pandas as pd\n",
    "import numpy as np"
   ]
  },
  {
   "cell_type": "code",
   "execution_count": 129,
   "id": "5ddfbdcd",
   "metadata": {},
   "outputs": [],
   "source": [
    "labels=['w','x','y','z']\n",
    "sample_list=[100,200,300,400]\n",
    "array=np.array([1,2,3,4])\n",
    "dict={'w':10,'x':20,'y':30,'z':40}"
   ]
  },
  {
   "cell_type": "code",
   "execution_count": 130,
   "id": "18e1b905",
   "metadata": {},
   "outputs": [
    {
     "data": {
      "text/plain": [
       "0    100\n",
       "1    200\n",
       "2    300\n",
       "3    400\n",
       "dtype: int64"
      ]
     },
     "execution_count": 130,
     "metadata": {},
     "output_type": "execute_result"
    }
   ],
   "source": [
    "pd.Series(data=sample_list)"
   ]
  },
  {
   "cell_type": "code",
   "execution_count": 131,
   "id": "dba5bc75",
   "metadata": {},
   "outputs": [
    {
     "data": {
      "text/plain": [
       "w    100\n",
       "x    200\n",
       "y    300\n",
       "z    400\n",
       "dtype: int64"
      ]
     },
     "execution_count": 131,
     "metadata": {},
     "output_type": "execute_result"
    }
   ],
   "source": [
    "pd.Series(data=sample_list,index=labels)"
   ]
  },
  {
   "cell_type": "code",
   "execution_count": 132,
   "id": "0d84bff6",
   "metadata": {},
   "outputs": [
    {
     "data": {
      "text/plain": [
       "w    100\n",
       "x    200\n",
       "y    300\n",
       "z    400\n",
       "dtype: int64"
      ]
     },
     "execution_count": 132,
     "metadata": {},
     "output_type": "execute_result"
    }
   ],
   "source": [
    "pd.Series(sample_list,labels)"
   ]
  },
  {
   "cell_type": "code",
   "execution_count": 133,
   "id": "c695985f",
   "metadata": {},
   "outputs": [
    {
     "data": {
      "text/plain": [
       "w    10\n",
       "x    20\n",
       "y    30\n",
       "z    40\n",
       "dtype: int64"
      ]
     },
     "execution_count": 133,
     "metadata": {},
     "output_type": "execute_result"
    }
   ],
   "source": [
    "pd.Series(dict)"
   ]
  },
  {
   "cell_type": "markdown",
   "id": "56c6a683",
   "metadata": {},
   "source": [
    "# Pandas\n",
    "\n",
    "## Pandas Dataframe and indexing"
   ]
  },
  {
   "cell_type": "code",
   "execution_count": 134,
   "id": "be15c040",
   "metadata": {},
   "outputs": [
    {
     "data": {
      "text/plain": [
       "cricket       1\n",
       "football      2\n",
       "basketball    3\n",
       "golf          4\n",
       "dtype: int64"
      ]
     },
     "execution_count": 134,
     "metadata": {},
     "output_type": "execute_result"
    }
   ],
   "source": [
    "sports1=pd.Series([1,2,3,4],index=['cricket','football','basketball','golf'])\n",
    "sports1"
   ]
  },
  {
   "cell_type": "code",
   "execution_count": 135,
   "id": "2cdcec68",
   "metadata": {},
   "outputs": [
    {
     "data": {
      "text/plain": [
       "1"
      ]
     },
     "execution_count": 135,
     "metadata": {},
     "output_type": "execute_result"
    }
   ],
   "source": [
    "sports1['cricket']"
   ]
  },
  {
   "cell_type": "code",
   "execution_count": 140,
   "id": "fb4b390d",
   "metadata": {},
   "outputs": [
    {
     "data": {
      "text/plain": [
       "cricket       11\n",
       "football       2\n",
       "basketball     3\n",
       "golf           4\n",
       "dtype: int64"
      ]
     },
     "execution_count": 140,
     "metadata": {},
     "output_type": "execute_result"
    }
   ],
   "source": [
    "sports2=pd.Series([11,2,3,4],index=['cricket','football','basketball','golf'])\n",
    "sports2"
   ]
  },
  {
   "cell_type": "code",
   "execution_count": 141,
   "id": "90f4e3a5",
   "metadata": {},
   "outputs": [
    {
     "data": {
      "text/plain": [
       "cricket       12\n",
       "football       4\n",
       "basketball     6\n",
       "golf           8\n",
       "dtype: int64"
      ]
     },
     "execution_count": 141,
     "metadata": {},
     "output_type": "execute_result"
    }
   ],
   "source": [
    "sports1+sports2"
   ]
  },
  {
   "cell_type": "code",
   "execution_count": 148,
   "id": "2a093265",
   "metadata": {},
   "outputs": [
    {
     "data": {
      "text/html": [
       "<div>\n",
       "<style scoped>\n",
       "    .dataframe tbody tr th:only-of-type {\n",
       "        vertical-align: middle;\n",
       "    }\n",
       "\n",
       "    .dataframe tbody tr th {\n",
       "        vertical-align: top;\n",
       "    }\n",
       "\n",
       "    .dataframe thead th {\n",
       "        text-align: right;\n",
       "    }\n",
       "</style>\n",
       "<table border=\"1\" class=\"dataframe\">\n",
       "  <thead>\n",
       "    <tr style=\"text-align: right;\">\n",
       "      <th></th>\n",
       "      <th>Score1</th>\n",
       "      <th>Score2</th>\n",
       "      <th>Score3</th>\n",
       "      <th>Score4</th>\n",
       "      <th>Score5</th>\n",
       "    </tr>\n",
       "  </thead>\n",
       "  <tbody>\n",
       "    <tr>\n",
       "      <th>A</th>\n",
       "      <td>0.901162</td>\n",
       "      <td>0.107250</td>\n",
       "      <td>0.301194</td>\n",
       "      <td>0.599597</td>\n",
       "      <td>0.736434</td>\n",
       "    </tr>\n",
       "    <tr>\n",
       "      <th>B</th>\n",
       "      <td>0.081900</td>\n",
       "      <td>0.096335</td>\n",
       "      <td>0.909412</td>\n",
       "      <td>0.265614</td>\n",
       "      <td>0.529122</td>\n",
       "    </tr>\n",
       "    <tr>\n",
       "      <th>C</th>\n",
       "      <td>0.292226</td>\n",
       "      <td>0.492346</td>\n",
       "      <td>0.029517</td>\n",
       "      <td>0.060159</td>\n",
       "      <td>0.341314</td>\n",
       "    </tr>\n",
       "    <tr>\n",
       "      <th>D</th>\n",
       "      <td>0.161728</td>\n",
       "      <td>0.598338</td>\n",
       "      <td>0.861106</td>\n",
       "      <td>0.305381</td>\n",
       "      <td>0.899051</td>\n",
       "    </tr>\n",
       "    <tr>\n",
       "      <th>E</th>\n",
       "      <td>0.233079</td>\n",
       "      <td>0.449952</td>\n",
       "      <td>0.077675</td>\n",
       "      <td>0.389769</td>\n",
       "      <td>0.673109</td>\n",
       "    </tr>\n",
       "    <tr>\n",
       "      <th>F</th>\n",
       "      <td>0.440460</td>\n",
       "      <td>0.975451</td>\n",
       "      <td>0.308539</td>\n",
       "      <td>0.616236</td>\n",
       "      <td>0.692448</td>\n",
       "    </tr>\n",
       "    <tr>\n",
       "      <th>G</th>\n",
       "      <td>0.752101</td>\n",
       "      <td>0.272638</td>\n",
       "      <td>0.223285</td>\n",
       "      <td>0.349660</td>\n",
       "      <td>0.714182</td>\n",
       "    </tr>\n",
       "    <tr>\n",
       "      <th>H</th>\n",
       "      <td>0.347775</td>\n",
       "      <td>0.324703</td>\n",
       "      <td>0.357192</td>\n",
       "      <td>0.209630</td>\n",
       "      <td>0.603812</td>\n",
       "    </tr>\n",
       "  </tbody>\n",
       "</table>\n",
       "</div>"
      ],
      "text/plain": [
       "     Score1    Score2    Score3    Score4    Score5\n",
       "A  0.901162  0.107250  0.301194  0.599597  0.736434\n",
       "B  0.081900  0.096335  0.909412  0.265614  0.529122\n",
       "C  0.292226  0.492346  0.029517  0.060159  0.341314\n",
       "D  0.161728  0.598338  0.861106  0.305381  0.899051\n",
       "E  0.233079  0.449952  0.077675  0.389769  0.673109\n",
       "F  0.440460  0.975451  0.308539  0.616236  0.692448\n",
       "G  0.752101  0.272638  0.223285  0.349660  0.714182\n",
       "H  0.347775  0.324703  0.357192  0.209630  0.603812"
      ]
     },
     "execution_count": 148,
     "metadata": {},
     "output_type": "execute_result"
    }
   ],
   "source": [
    "df1=pd.DataFrame(np.random.rand(8,5),index='A B C D E F G H'.split(),columns='Score1 Score2 Score3 Score4 Score5'.split())\n",
    "df1"
   ]
  },
  {
   "cell_type": "code",
   "execution_count": 150,
   "id": "7abb7a5d",
   "metadata": {},
   "outputs": [
    {
     "data": {
      "text/plain": [
       "A    0.301194\n",
       "B    0.909412\n",
       "C    0.029517\n",
       "D    0.861106\n",
       "E    0.077675\n",
       "F    0.308539\n",
       "G    0.223285\n",
       "H    0.357192\n",
       "Name: Score3, dtype: float64"
      ]
     },
     "execution_count": 150,
     "metadata": {},
     "output_type": "execute_result"
    }
   ],
   "source": [
    "df1[\"Score3\"]"
   ]
  },
  {
   "cell_type": "code",
   "execution_count": 151,
   "id": "2e81e262",
   "metadata": {},
   "outputs": [
    {
     "data": {
      "text/html": [
       "<div>\n",
       "<style scoped>\n",
       "    .dataframe tbody tr th:only-of-type {\n",
       "        vertical-align: middle;\n",
       "    }\n",
       "\n",
       "    .dataframe tbody tr th {\n",
       "        vertical-align: top;\n",
       "    }\n",
       "\n",
       "    .dataframe thead th {\n",
       "        text-align: right;\n",
       "    }\n",
       "</style>\n",
       "<table border=\"1\" class=\"dataframe\">\n",
       "  <thead>\n",
       "    <tr style=\"text-align: right;\">\n",
       "      <th></th>\n",
       "      <th>Score1</th>\n",
       "      <th>Score2</th>\n",
       "      <th>Score3</th>\n",
       "    </tr>\n",
       "  </thead>\n",
       "  <tbody>\n",
       "    <tr>\n",
       "      <th>A</th>\n",
       "      <td>0.901162</td>\n",
       "      <td>0.107250</td>\n",
       "      <td>0.301194</td>\n",
       "    </tr>\n",
       "    <tr>\n",
       "      <th>B</th>\n",
       "      <td>0.081900</td>\n",
       "      <td>0.096335</td>\n",
       "      <td>0.909412</td>\n",
       "    </tr>\n",
       "    <tr>\n",
       "      <th>C</th>\n",
       "      <td>0.292226</td>\n",
       "      <td>0.492346</td>\n",
       "      <td>0.029517</td>\n",
       "    </tr>\n",
       "    <tr>\n",
       "      <th>D</th>\n",
       "      <td>0.161728</td>\n",
       "      <td>0.598338</td>\n",
       "      <td>0.861106</td>\n",
       "    </tr>\n",
       "    <tr>\n",
       "      <th>E</th>\n",
       "      <td>0.233079</td>\n",
       "      <td>0.449952</td>\n",
       "      <td>0.077675</td>\n",
       "    </tr>\n",
       "    <tr>\n",
       "      <th>F</th>\n",
       "      <td>0.440460</td>\n",
       "      <td>0.975451</td>\n",
       "      <td>0.308539</td>\n",
       "    </tr>\n",
       "    <tr>\n",
       "      <th>G</th>\n",
       "      <td>0.752101</td>\n",
       "      <td>0.272638</td>\n",
       "      <td>0.223285</td>\n",
       "    </tr>\n",
       "    <tr>\n",
       "      <th>H</th>\n",
       "      <td>0.347775</td>\n",
       "      <td>0.324703</td>\n",
       "      <td>0.357192</td>\n",
       "    </tr>\n",
       "  </tbody>\n",
       "</table>\n",
       "</div>"
      ],
      "text/plain": [
       "     Score1    Score2    Score3\n",
       "A  0.901162  0.107250  0.301194\n",
       "B  0.081900  0.096335  0.909412\n",
       "C  0.292226  0.492346  0.029517\n",
       "D  0.161728  0.598338  0.861106\n",
       "E  0.233079  0.449952  0.077675\n",
       "F  0.440460  0.975451  0.308539\n",
       "G  0.752101  0.272638  0.223285\n",
       "H  0.347775  0.324703  0.357192"
      ]
     },
     "execution_count": 151,
     "metadata": {},
     "output_type": "execute_result"
    }
   ],
   "source": [
    "df1[[\"Score1\",\"Score2\",\"Score3\"]]"
   ]
  },
  {
   "cell_type": "code",
   "execution_count": 153,
   "id": "e32d3e77",
   "metadata": {},
   "outputs": [
    {
     "data": {
      "text/html": [
       "<div>\n",
       "<style scoped>\n",
       "    .dataframe tbody tr th:only-of-type {\n",
       "        vertical-align: middle;\n",
       "    }\n",
       "\n",
       "    .dataframe tbody tr th {\n",
       "        vertical-align: top;\n",
       "    }\n",
       "\n",
       "    .dataframe thead th {\n",
       "        text-align: right;\n",
       "    }\n",
       "</style>\n",
       "<table border=\"1\" class=\"dataframe\">\n",
       "  <thead>\n",
       "    <tr style=\"text-align: right;\">\n",
       "      <th></th>\n",
       "      <th>Score1</th>\n",
       "      <th>Score2</th>\n",
       "      <th>Score3</th>\n",
       "      <th>Score4</th>\n",
       "      <th>Score5</th>\n",
       "      <th>Score6</th>\n",
       "    </tr>\n",
       "  </thead>\n",
       "  <tbody>\n",
       "    <tr>\n",
       "      <th>A</th>\n",
       "      <td>0.901162</td>\n",
       "      <td>0.107250</td>\n",
       "      <td>0.301194</td>\n",
       "      <td>0.599597</td>\n",
       "      <td>0.736434</td>\n",
       "      <td>1.008412</td>\n",
       "    </tr>\n",
       "    <tr>\n",
       "      <th>B</th>\n",
       "      <td>0.081900</td>\n",
       "      <td>0.096335</td>\n",
       "      <td>0.909412</td>\n",
       "      <td>0.265614</td>\n",
       "      <td>0.529122</td>\n",
       "      <td>0.178235</td>\n",
       "    </tr>\n",
       "    <tr>\n",
       "      <th>C</th>\n",
       "      <td>0.292226</td>\n",
       "      <td>0.492346</td>\n",
       "      <td>0.029517</td>\n",
       "      <td>0.060159</td>\n",
       "      <td>0.341314</td>\n",
       "      <td>0.784572</td>\n",
       "    </tr>\n",
       "    <tr>\n",
       "      <th>D</th>\n",
       "      <td>0.161728</td>\n",
       "      <td>0.598338</td>\n",
       "      <td>0.861106</td>\n",
       "      <td>0.305381</td>\n",
       "      <td>0.899051</td>\n",
       "      <td>0.760066</td>\n",
       "    </tr>\n",
       "    <tr>\n",
       "      <th>E</th>\n",
       "      <td>0.233079</td>\n",
       "      <td>0.449952</td>\n",
       "      <td>0.077675</td>\n",
       "      <td>0.389769</td>\n",
       "      <td>0.673109</td>\n",
       "      <td>0.683030</td>\n",
       "    </tr>\n",
       "    <tr>\n",
       "      <th>F</th>\n",
       "      <td>0.440460</td>\n",
       "      <td>0.975451</td>\n",
       "      <td>0.308539</td>\n",
       "      <td>0.616236</td>\n",
       "      <td>0.692448</td>\n",
       "      <td>1.415911</td>\n",
       "    </tr>\n",
       "    <tr>\n",
       "      <th>G</th>\n",
       "      <td>0.752101</td>\n",
       "      <td>0.272638</td>\n",
       "      <td>0.223285</td>\n",
       "      <td>0.349660</td>\n",
       "      <td>0.714182</td>\n",
       "      <td>1.024739</td>\n",
       "    </tr>\n",
       "    <tr>\n",
       "      <th>H</th>\n",
       "      <td>0.347775</td>\n",
       "      <td>0.324703</td>\n",
       "      <td>0.357192</td>\n",
       "      <td>0.209630</td>\n",
       "      <td>0.603812</td>\n",
       "      <td>0.672478</td>\n",
       "    </tr>\n",
       "  </tbody>\n",
       "</table>\n",
       "</div>"
      ],
      "text/plain": [
       "     Score1    Score2    Score3    Score4    Score5    Score6\n",
       "A  0.901162  0.107250  0.301194  0.599597  0.736434  1.008412\n",
       "B  0.081900  0.096335  0.909412  0.265614  0.529122  0.178235\n",
       "C  0.292226  0.492346  0.029517  0.060159  0.341314  0.784572\n",
       "D  0.161728  0.598338  0.861106  0.305381  0.899051  0.760066\n",
       "E  0.233079  0.449952  0.077675  0.389769  0.673109  0.683030\n",
       "F  0.440460  0.975451  0.308539  0.616236  0.692448  1.415911\n",
       "G  0.752101  0.272638  0.223285  0.349660  0.714182  1.024739\n",
       "H  0.347775  0.324703  0.357192  0.209630  0.603812  0.672478"
      ]
     },
     "execution_count": 153,
     "metadata": {},
     "output_type": "execute_result"
    }
   ],
   "source": [
    "df1['Score6']=df1['Score1']+df1['Score2']\n",
    "df1"
   ]
  },
  {
   "cell_type": "code",
   "execution_count": 156,
   "id": "9247fd43",
   "metadata": {},
   "outputs": [
    {
     "data": {
      "text/html": [
       "<div>\n",
       "<style scoped>\n",
       "    .dataframe tbody tr th:only-of-type {\n",
       "        vertical-align: middle;\n",
       "    }\n",
       "\n",
       "    .dataframe tbody tr th {\n",
       "        vertical-align: top;\n",
       "    }\n",
       "\n",
       "    .dataframe thead th {\n",
       "        text-align: right;\n",
       "    }\n",
       "</style>\n",
       "<table border=\"1\" class=\"dataframe\">\n",
       "  <thead>\n",
       "    <tr style=\"text-align: right;\">\n",
       "      <th></th>\n",
       "      <th>ID</th>\n",
       "      <th>NAME</th>\n",
       "      <th>PROFIT</th>\n",
       "    </tr>\n",
       "  </thead>\n",
       "  <tbody>\n",
       "    <tr>\n",
       "      <th>0</th>\n",
       "      <td>101</td>\n",
       "      <td>John</td>\n",
       "      <td>20</td>\n",
       "    </tr>\n",
       "    <tr>\n",
       "      <th>1</th>\n",
       "      <td>102</td>\n",
       "      <td>Mercy</td>\n",
       "      <td>54</td>\n",
       "    </tr>\n",
       "    <tr>\n",
       "      <th>2</th>\n",
       "      <td>103</td>\n",
       "      <td>Akash</td>\n",
       "      <td>56</td>\n",
       "    </tr>\n",
       "    <tr>\n",
       "      <th>3</th>\n",
       "      <td>107</td>\n",
       "      <td>Kavin</td>\n",
       "      <td>87</td>\n",
       "    </tr>\n",
       "    <tr>\n",
       "      <th>4</th>\n",
       "      <td>176</td>\n",
       "      <td>Lally</td>\n",
       "      <td>123</td>\n",
       "    </tr>\n",
       "  </tbody>\n",
       "</table>\n",
       "</div>"
      ],
      "text/plain": [
       "    ID   NAME  PROFIT\n",
       "0  101   John      20\n",
       "1  102  Mercy      54\n",
       "2  103  Akash      56\n",
       "3  107  Kavin      87\n",
       "4  176  Lally     123"
      ]
     },
     "execution_count": 156,
     "metadata": {},
     "output_type": "execute_result"
    }
   ],
   "source": [
    "df2={'ID':['101','102','103','107','176'],'NAME':['John','Mercy','Akash','Kavin','Lally'],'PROFIT':[20,54,56,87,123]}\n",
    "df=pd.DataFrame(df2)\n",
    "df"
   ]
  },
  {
   "cell_type": "code",
   "execution_count": 157,
   "id": "b7eac66d",
   "metadata": {},
   "outputs": [
    {
     "data": {
      "text/plain": [
       "0    101\n",
       "1    102\n",
       "2    103\n",
       "3    107\n",
       "4    176\n",
       "Name: ID, dtype: object"
      ]
     },
     "execution_count": 157,
     "metadata": {},
     "output_type": "execute_result"
    }
   ],
   "source": [
    "df[\"ID\"]"
   ]
  },
  {
   "cell_type": "code",
   "execution_count": 159,
   "id": "f5412cd8",
   "metadata": {},
   "outputs": [
    {
     "data": {
      "text/html": [
       "<div>\n",
       "<style scoped>\n",
       "    .dataframe tbody tr th:only-of-type {\n",
       "        vertical-align: middle;\n",
       "    }\n",
       "\n",
       "    .dataframe tbody tr th {\n",
       "        vertical-align: top;\n",
       "    }\n",
       "\n",
       "    .dataframe thead th {\n",
       "        text-align: right;\n",
       "    }\n",
       "</style>\n",
       "<table border=\"1\" class=\"dataframe\">\n",
       "  <thead>\n",
       "    <tr style=\"text-align: right;\">\n",
       "      <th></th>\n",
       "      <th>ID</th>\n",
       "      <th>NAME</th>\n",
       "    </tr>\n",
       "  </thead>\n",
       "  <tbody>\n",
       "    <tr>\n",
       "      <th>0</th>\n",
       "      <td>101</td>\n",
       "      <td>John</td>\n",
       "    </tr>\n",
       "    <tr>\n",
       "      <th>1</th>\n",
       "      <td>102</td>\n",
       "      <td>Mercy</td>\n",
       "    </tr>\n",
       "    <tr>\n",
       "      <th>2</th>\n",
       "      <td>103</td>\n",
       "      <td>Akash</td>\n",
       "    </tr>\n",
       "    <tr>\n",
       "      <th>3</th>\n",
       "      <td>107</td>\n",
       "      <td>Kavin</td>\n",
       "    </tr>\n",
       "    <tr>\n",
       "      <th>4</th>\n",
       "      <td>176</td>\n",
       "      <td>Lally</td>\n",
       "    </tr>\n",
       "  </tbody>\n",
       "</table>\n",
       "</div>"
      ],
      "text/plain": [
       "    ID   NAME\n",
       "0  101   John\n",
       "1  102  Mercy\n",
       "2  103  Akash\n",
       "3  107  Kavin\n",
       "4  176  Lally"
      ]
     },
     "execution_count": 159,
     "metadata": {},
     "output_type": "execute_result"
    }
   ],
   "source": [
    "df[[\"ID\",\"NAME\"]]"
   ]
  },
  {
   "cell_type": "code",
   "execution_count": 165,
   "id": "41ebcf58",
   "metadata": {},
   "outputs": [
    {
     "data": {
      "text/html": [
       "<div>\n",
       "<style scoped>\n",
       "    .dataframe tbody tr th:only-of-type {\n",
       "        vertical-align: middle;\n",
       "    }\n",
       "\n",
       "    .dataframe tbody tr th {\n",
       "        vertical-align: top;\n",
       "    }\n",
       "\n",
       "    .dataframe thead th {\n",
       "        text-align: right;\n",
       "    }\n",
       "</style>\n",
       "<table border=\"1\" class=\"dataframe\">\n",
       "  <thead>\n",
       "    <tr style=\"text-align: right;\">\n",
       "      <th></th>\n",
       "      <th>NAME</th>\n",
       "      <th>PROFIT</th>\n",
       "    </tr>\n",
       "  </thead>\n",
       "  <tbody>\n",
       "    <tr>\n",
       "      <th>0</th>\n",
       "      <td>John</td>\n",
       "      <td>20</td>\n",
       "    </tr>\n",
       "    <tr>\n",
       "      <th>1</th>\n",
       "      <td>Mercy</td>\n",
       "      <td>54</td>\n",
       "    </tr>\n",
       "    <tr>\n",
       "      <th>2</th>\n",
       "      <td>Akash</td>\n",
       "      <td>56</td>\n",
       "    </tr>\n",
       "    <tr>\n",
       "      <th>3</th>\n",
       "      <td>Kavin</td>\n",
       "      <td>87</td>\n",
       "    </tr>\n",
       "    <tr>\n",
       "      <th>4</th>\n",
       "      <td>Lally</td>\n",
       "      <td>123</td>\n",
       "    </tr>\n",
       "  </tbody>\n",
       "</table>\n",
       "</div>"
      ],
      "text/plain": [
       "    NAME  PROFIT\n",
       "0   John      20\n",
       "1  Mercy      54\n",
       "2  Akash      56\n",
       "3  Kavin      87\n",
       "4  Lally     123"
      ]
     },
     "execution_count": 165,
     "metadata": {},
     "output_type": "execute_result"
    }
   ],
   "source": [
    "df.drop(\"ID\",axis=1)"
   ]
  },
  {
   "cell_type": "code",
   "execution_count": 161,
   "id": "3ec384d9",
   "metadata": {},
   "outputs": [
    {
     "data": {
      "text/html": [
       "<div>\n",
       "<style scoped>\n",
       "    .dataframe tbody tr th:only-of-type {\n",
       "        vertical-align: middle;\n",
       "    }\n",
       "\n",
       "    .dataframe tbody tr th {\n",
       "        vertical-align: top;\n",
       "    }\n",
       "\n",
       "    .dataframe thead th {\n",
       "        text-align: right;\n",
       "    }\n",
       "</style>\n",
       "<table border=\"1\" class=\"dataframe\">\n",
       "  <thead>\n",
       "    <tr style=\"text-align: right;\">\n",
       "      <th></th>\n",
       "      <th>ID</th>\n",
       "      <th>NAME</th>\n",
       "      <th>PROFIT</th>\n",
       "    </tr>\n",
       "  </thead>\n",
       "  <tbody>\n",
       "    <tr>\n",
       "      <th>0</th>\n",
       "      <td>101</td>\n",
       "      <td>John</td>\n",
       "      <td>20</td>\n",
       "    </tr>\n",
       "    <tr>\n",
       "      <th>1</th>\n",
       "      <td>102</td>\n",
       "      <td>Mercy</td>\n",
       "      <td>54</td>\n",
       "    </tr>\n",
       "    <tr>\n",
       "      <th>2</th>\n",
       "      <td>103</td>\n",
       "      <td>Akash</td>\n",
       "      <td>56</td>\n",
       "    </tr>\n",
       "    <tr>\n",
       "      <th>4</th>\n",
       "      <td>176</td>\n",
       "      <td>Lally</td>\n",
       "      <td>123</td>\n",
       "    </tr>\n",
       "  </tbody>\n",
       "</table>\n",
       "</div>"
      ],
      "text/plain": [
       "    ID   NAME  PROFIT\n",
       "0  101   John      20\n",
       "1  102  Mercy      54\n",
       "2  103  Akash      56\n",
       "4  176  Lally     123"
      ]
     },
     "execution_count": 161,
     "metadata": {},
     "output_type": "execute_result"
    }
   ],
   "source": [
    "df.drop(3)"
   ]
  },
  {
   "cell_type": "markdown",
   "id": "ab97e8e1",
   "metadata": {},
   "source": [
    "## How to Import Dataset using Pandas?"
   ]
  },
  {
   "cell_type": "code",
   "execution_count": 1,
   "id": "bd402955",
   "metadata": {},
   "outputs": [],
   "source": [
    "import numpy as np\n",
    "import pandas as pd"
   ]
  },
  {
   "cell_type": "code",
   "execution_count": 16,
   "id": "af0830d7",
   "metadata": {},
   "outputs": [
    {
     "ename": "ValueError",
     "evalue": "Excel file format cannot be determined, you must specify an engine manually.",
     "output_type": "error",
     "traceback": [
      "\u001b[1;31m---------------------------------------------------------------------------\u001b[0m",
      "\u001b[1;31mValueError\u001b[0m                                Traceback (most recent call last)",
      "\u001b[1;32m~\\AppData\\Local\\Temp\\ipykernel_15032\\701922437.py\u001b[0m in \u001b[0;36m<module>\u001b[1;34m\u001b[0m\n\u001b[1;32m----> 1\u001b[1;33m \u001b[0mdf\u001b[0m\u001b[1;33m=\u001b[0m\u001b[0mpd\u001b[0m\u001b[1;33m.\u001b[0m\u001b[0mread_excel\u001b[0m\u001b[1;33m(\u001b[0m\u001b[1;34m\"https://raw.githubsercontent.com/Premlatha-success/Financial-Analytics-Loan-Approval-Prediction/main/loan_prediction.csv\"\u001b[0m\u001b[1;33m)\u001b[0m\u001b[1;33m\u001b[0m\u001b[1;33m\u001b[0m\u001b[0m\n\u001b[0m",
      "\u001b[1;32m~\\anaconda3\\lib\\site-packages\\pandas\\util\\_decorators.py\u001b[0m in \u001b[0;36mwrapper\u001b[1;34m(*args, **kwargs)\u001b[0m\n\u001b[0;32m    309\u001b[0m                     \u001b[0mstacklevel\u001b[0m\u001b[1;33m=\u001b[0m\u001b[0mstacklevel\u001b[0m\u001b[1;33m,\u001b[0m\u001b[1;33m\u001b[0m\u001b[1;33m\u001b[0m\u001b[0m\n\u001b[0;32m    310\u001b[0m                 )\n\u001b[1;32m--> 311\u001b[1;33m             \u001b[1;32mreturn\u001b[0m \u001b[0mfunc\u001b[0m\u001b[1;33m(\u001b[0m\u001b[1;33m*\u001b[0m\u001b[0margs\u001b[0m\u001b[1;33m,\u001b[0m \u001b[1;33m**\u001b[0m\u001b[0mkwargs\u001b[0m\u001b[1;33m)\u001b[0m\u001b[1;33m\u001b[0m\u001b[1;33m\u001b[0m\u001b[0m\n\u001b[0m\u001b[0;32m    312\u001b[0m \u001b[1;33m\u001b[0m\u001b[0m\n\u001b[0;32m    313\u001b[0m         \u001b[1;32mreturn\u001b[0m \u001b[0mwrapper\u001b[0m\u001b[1;33m\u001b[0m\u001b[1;33m\u001b[0m\u001b[0m\n",
      "\u001b[1;32m~\\anaconda3\\lib\\site-packages\\pandas\\io\\excel\\_base.py\u001b[0m in \u001b[0;36mread_excel\u001b[1;34m(io, sheet_name, header, names, index_col, usecols, squeeze, dtype, engine, converters, true_values, false_values, skiprows, nrows, na_values, keep_default_na, na_filter, verbose, parse_dates, date_parser, thousands, decimal, comment, skipfooter, convert_float, mangle_dupe_cols, storage_options)\u001b[0m\n\u001b[0;32m    455\u001b[0m     \u001b[1;32mif\u001b[0m \u001b[1;32mnot\u001b[0m \u001b[0misinstance\u001b[0m\u001b[1;33m(\u001b[0m\u001b[0mio\u001b[0m\u001b[1;33m,\u001b[0m \u001b[0mExcelFile\u001b[0m\u001b[1;33m)\u001b[0m\u001b[1;33m:\u001b[0m\u001b[1;33m\u001b[0m\u001b[1;33m\u001b[0m\u001b[0m\n\u001b[0;32m    456\u001b[0m         \u001b[0mshould_close\u001b[0m \u001b[1;33m=\u001b[0m \u001b[1;32mTrue\u001b[0m\u001b[1;33m\u001b[0m\u001b[1;33m\u001b[0m\u001b[0m\n\u001b[1;32m--> 457\u001b[1;33m         \u001b[0mio\u001b[0m \u001b[1;33m=\u001b[0m \u001b[0mExcelFile\u001b[0m\u001b[1;33m(\u001b[0m\u001b[0mio\u001b[0m\u001b[1;33m,\u001b[0m \u001b[0mstorage_options\u001b[0m\u001b[1;33m=\u001b[0m\u001b[0mstorage_options\u001b[0m\u001b[1;33m,\u001b[0m \u001b[0mengine\u001b[0m\u001b[1;33m=\u001b[0m\u001b[0mengine\u001b[0m\u001b[1;33m)\u001b[0m\u001b[1;33m\u001b[0m\u001b[1;33m\u001b[0m\u001b[0m\n\u001b[0m\u001b[0;32m    458\u001b[0m     \u001b[1;32melif\u001b[0m \u001b[0mengine\u001b[0m \u001b[1;32mand\u001b[0m \u001b[0mengine\u001b[0m \u001b[1;33m!=\u001b[0m \u001b[0mio\u001b[0m\u001b[1;33m.\u001b[0m\u001b[0mengine\u001b[0m\u001b[1;33m:\u001b[0m\u001b[1;33m\u001b[0m\u001b[1;33m\u001b[0m\u001b[0m\n\u001b[0;32m    459\u001b[0m         raise ValueError(\n",
      "\u001b[1;32m~\\anaconda3\\lib\\site-packages\\pandas\\io\\excel\\_base.py\u001b[0m in \u001b[0;36m__init__\u001b[1;34m(self, path_or_buffer, engine, storage_options)\u001b[0m\n\u001b[0;32m   1378\u001b[0m                 )\n\u001b[0;32m   1379\u001b[0m                 \u001b[1;32mif\u001b[0m \u001b[0mext\u001b[0m \u001b[1;32mis\u001b[0m \u001b[1;32mNone\u001b[0m\u001b[1;33m:\u001b[0m\u001b[1;33m\u001b[0m\u001b[1;33m\u001b[0m\u001b[0m\n\u001b[1;32m-> 1380\u001b[1;33m                     raise ValueError(\n\u001b[0m\u001b[0;32m   1381\u001b[0m                         \u001b[1;34m\"Excel file format cannot be determined, you must specify \"\u001b[0m\u001b[1;33m\u001b[0m\u001b[1;33m\u001b[0m\u001b[0m\n\u001b[0;32m   1382\u001b[0m                         \u001b[1;34m\"an engine manually.\"\u001b[0m\u001b[1;33m\u001b[0m\u001b[1;33m\u001b[0m\u001b[0m\n",
      "\u001b[1;31mValueError\u001b[0m: Excel file format cannot be determined, you must specify an engine manually."
     ]
    }
   ],
   "source": [
    "df=pd.read_excel(\"https://raw.githubsercontent.com/Premlatha-success/Financial-Analytics-Loan-Approval-Prediction/main/loan_prediction.csv\")"
   ]
  },
  {
   "cell_type": "code",
   "execution_count": 18,
   "id": "dee043f4",
   "metadata": {},
   "outputs": [
    {
     "data": {
      "text/html": [
       "<div>\n",
       "<style scoped>\n",
       "    .dataframe tbody tr th:only-of-type {\n",
       "        vertical-align: middle;\n",
       "    }\n",
       "\n",
       "    .dataframe tbody tr th {\n",
       "        vertical-align: top;\n",
       "    }\n",
       "\n",
       "    .dataframe thead th {\n",
       "        text-align: right;\n",
       "    }\n",
       "</style>\n",
       "<table border=\"1\" class=\"dataframe\">\n",
       "  <thead>\n",
       "    <tr style=\"text-align: right;\">\n",
       "      <th></th>\n",
       "      <th>&lt;!doctype html&gt;&lt;html data-adblockkey=\"MFwwDQYJKoZIhvcNAQEBBQADSwAwSAJBANDrp2lz7AOmADaN8tA50LsWcjLFyQFcb/P2Txc58oYOeILb3vBw7J6f4pamkAQVSQuqYsKx3YzdUHCvbVZvFUsCAwEAAQ==_OTVnl4GT3WKlHE7HlJPBFav5evrWMtMg47o4UmJecOap/K6Hdqr8fW9ZSh5BnpVewgvO/dSCzWCUwx46GarEeQ==\"&gt;&lt;head&gt;&lt;meta charset=\"utf-8\"&gt;&lt;meta name=\"viewport\" content=\"width=device-width</th>\n",
       "      <th>initial-scale=1\"&gt;&lt;link rel=\"preconnect\" href=\"https://www.google.com\" crossorigin&gt;&lt;/head&gt;&lt;body&gt;&lt;div id=\"target\" style='opacity: 0'&gt;&lt;/div&gt;&lt;script&gt;window.park = \"eyJ1dWlkIjoiMTQyN2JkZWEtZGJjZS03YjQ2LTE3ZGUtZGQwY2JkZmIyYTE3IiwicGFnZV90aW1lIjoxNjcxNzc4NjYyLCJwYWdlX3VybCI6Imh0dHA6XC9cL3d3MjUucmF3LmdpdGh1YnNlcmNvbnRlbnQuY29tXC9QcmVtbGF0aGEtc3VjY2Vzc1wvRmluYW5jaWFsLUFuYWx5dGljcy1Mb2FuLUFwcHJvdmFsLVByZWRpY3Rpb25cL21haW5cL2xvYW5fcHJlZGljdGlvbi5jc3Y/c3ViaWQxPTIwMjIxMjIzLTE2MjUtMzU4MC1iYjc4LWJlMjhiNzg4MTg2MC5jc3YiLCJwYWdlX21ldGhvZCI6IkdFVCIsInBhZ2VfcmVxdWVzdCI6eyJzdWJpZDEiOiIyMDIyMTIyMy0xNjI1LTM1ODAtYmI3OC1iZTI4Yjc4ODE4NjAuY3N2In0sInBhZ2VfaGVhZGVycyI6W10sImhvc3QiOiJ3dzI1LnJhdy5naXRodWJzZXJjb250ZW50LmNvbSIsImlwIjoiMTIyLjE2MS4xNzAuMTcyIn0=\";&lt;/script&gt;&lt;script src=\"/js/parking.2.101.0.js\"&gt;&lt;/script&gt;&lt;/body&gt;&lt;/html&gt;</th>\n",
       "    </tr>\n",
       "  </thead>\n",
       "  <tbody>\n",
       "  </tbody>\n",
       "</table>\n",
       "</div>"
      ],
      "text/plain": [
       "Empty DataFrame\n",
       "Columns: [<!doctype html><html data-adblockkey=\"MFwwDQYJKoZIhvcNAQEBBQADSwAwSAJBANDrp2lz7AOmADaN8tA50LsWcjLFyQFcb/P2Txc58oYOeILb3vBw7J6f4pamkAQVSQuqYsKx3YzdUHCvbVZvFUsCAwEAAQ==_OTVnl4GT3WKlHE7HlJPBFav5evrWMtMg47o4UmJecOap/K6Hdqr8fW9ZSh5BnpVewgvO/dSCzWCUwx46GarEeQ==\"><head><meta charset=\"utf-8\"><meta name=\"viewport\" content=\"width=device-width,  initial-scale=1\"><link rel=\"preconnect\" href=\"https://www.google.com\" crossorigin></head><body><div id=\"target\" style='opacity: 0'></div><script>window.park = \"eyJ1dWlkIjoiMTQyN2JkZWEtZGJjZS03YjQ2LTE3ZGUtZGQwY2JkZmIyYTE3IiwicGFnZV90aW1lIjoxNjcxNzc4NjYyLCJwYWdlX3VybCI6Imh0dHA6XC9cL3d3MjUucmF3LmdpdGh1YnNlcmNvbnRlbnQuY29tXC9QcmVtbGF0aGEtc3VjY2Vzc1wvRmluYW5jaWFsLUFuYWx5dGljcy1Mb2FuLUFwcHJvdmFsLVByZWRpY3Rpb25cL21haW5cL2xvYW5fcHJlZGljdGlvbi5jc3Y/c3ViaWQxPTIwMjIxMjIzLTE2MjUtMzU4MC1iYjc4LWJlMjhiNzg4MTg2MC5jc3YiLCJwYWdlX21ldGhvZCI6IkdFVCIsInBhZ2VfcmVxdWVzdCI6eyJzdWJpZDEiOiIyMDIyMTIyMy0xNjI1LTM1ODAtYmI3OC1iZTI4Yjc4ODE4NjAuY3N2In0sInBhZ2VfaGVhZGVycyI6W10sImhvc3QiOiJ3dzI1LnJhdy5naXRodWJzZXJjb250ZW50LmNvbSIsImlwIjoiMTIyLjE2MS4xNzAuMTcyIn0=\";</script><script src=\"/js/parking.2.101.0.js\"></script></body></html>]\n",
       "Index: []"
      ]
     },
     "execution_count": 18,
     "metadata": {},
     "output_type": "execute_result"
    }
   ],
   "source": [
    "df.head(10)"
   ]
  },
  {
   "cell_type": "code",
   "execution_count": 22,
   "id": "162138b9",
   "metadata": {},
   "outputs": [
    {
     "data": {
      "text/html": [
       "<div>\n",
       "<style scoped>\n",
       "    .dataframe tbody tr th:only-of-type {\n",
       "        vertical-align: middle;\n",
       "    }\n",
       "\n",
       "    .dataframe tbody tr th {\n",
       "        vertical-align: top;\n",
       "    }\n",
       "\n",
       "    .dataframe thead th {\n",
       "        text-align: right;\n",
       "    }\n",
       "</style>\n",
       "<table border=\"1\" class=\"dataframe\">\n",
       "  <thead>\n",
       "    <tr style=\"text-align: right;\">\n",
       "      <th></th>\n",
       "      <th>&lt;!doctype html&gt;&lt;html data-adblockkey=\"MFwwDQYJKoZIhvcNAQEBBQADSwAwSAJBANDrp2lz7AOmADaN8tA50LsWcjLFyQFcb/P2Txc58oYOeILb3vBw7J6f4pamkAQVSQuqYsKx3YzdUHCvbVZvFUsCAwEAAQ==_OTVnl4GT3WKlHE7HlJPBFav5evrWMtMg47o4UmJecOap/K6Hdqr8fW9ZSh5BnpVewgvO/dSCzWCUwx46GarEeQ==\"&gt;&lt;head&gt;&lt;meta charset=\"utf-8\"&gt;&lt;meta name=\"viewport\" content=\"width=device-width</th>\n",
       "      <th>initial-scale=1\"&gt;&lt;link rel=\"preconnect\" href=\"https://www.google.com\" crossorigin&gt;&lt;/head&gt;&lt;body&gt;&lt;div id=\"target\" style='opacity: 0'&gt;&lt;/div&gt;&lt;script&gt;window.park = \"eyJ1dWlkIjoiMTQyN2JkZWEtZGJjZS03YjQ2LTE3ZGUtZGQwY2JkZmIyYTE3IiwicGFnZV90aW1lIjoxNjcxNzc4NjYyLCJwYWdlX3VybCI6Imh0dHA6XC9cL3d3MjUucmF3LmdpdGh1YnNlcmNvbnRlbnQuY29tXC9QcmVtbGF0aGEtc3VjY2Vzc1wvRmluYW5jaWFsLUFuYWx5dGljcy1Mb2FuLUFwcHJvdmFsLVByZWRpY3Rpb25cL21haW5cL2xvYW5fcHJlZGljdGlvbi5jc3Y/c3ViaWQxPTIwMjIxMjIzLTE2MjUtMzU4MC1iYjc4LWJlMjhiNzg4MTg2MC5jc3YiLCJwYWdlX21ldGhvZCI6IkdFVCIsInBhZ2VfcmVxdWVzdCI6eyJzdWJpZDEiOiIyMDIyMTIyMy0xNjI1LTM1ODAtYmI3OC1iZTI4Yjc4ODE4NjAuY3N2In0sInBhZ2VfaGVhZGVycyI6W10sImhvc3QiOiJ3dzI1LnJhdy5naXRodWJzZXJjb250ZW50LmNvbSIsImlwIjoiMTIyLjE2MS4xNzAuMTcyIn0=\";&lt;/script&gt;&lt;script src=\"/js/parking.2.101.0.js\"&gt;&lt;/script&gt;&lt;/body&gt;&lt;/html&gt;</th>\n",
       "    </tr>\n",
       "  </thead>\n",
       "  <tbody>\n",
       "  </tbody>\n",
       "</table>\n",
       "</div>"
      ],
      "text/plain": [
       "Empty DataFrame\n",
       "Columns: [<!doctype html><html data-adblockkey=\"MFwwDQYJKoZIhvcNAQEBBQADSwAwSAJBANDrp2lz7AOmADaN8tA50LsWcjLFyQFcb/P2Txc58oYOeILb3vBw7J6f4pamkAQVSQuqYsKx3YzdUHCvbVZvFUsCAwEAAQ==_OTVnl4GT3WKlHE7HlJPBFav5evrWMtMg47o4UmJecOap/K6Hdqr8fW9ZSh5BnpVewgvO/dSCzWCUwx46GarEeQ==\"><head><meta charset=\"utf-8\"><meta name=\"viewport\" content=\"width=device-width,  initial-scale=1\"><link rel=\"preconnect\" href=\"https://www.google.com\" crossorigin></head><body><div id=\"target\" style='opacity: 0'></div><script>window.park = \"eyJ1dWlkIjoiMTQyN2JkZWEtZGJjZS03YjQ2LTE3ZGUtZGQwY2JkZmIyYTE3IiwicGFnZV90aW1lIjoxNjcxNzc4NjYyLCJwYWdlX3VybCI6Imh0dHA6XC9cL3d3MjUucmF3LmdpdGh1YnNlcmNvbnRlbnQuY29tXC9QcmVtbGF0aGEtc3VjY2Vzc1wvRmluYW5jaWFsLUFuYWx5dGljcy1Mb2FuLUFwcHJvdmFsLVByZWRpY3Rpb25cL21haW5cL2xvYW5fcHJlZGljdGlvbi5jc3Y/c3ViaWQxPTIwMjIxMjIzLTE2MjUtMzU4MC1iYjc4LWJlMjhiNzg4MTg2MC5jc3YiLCJwYWdlX21ldGhvZCI6IkdFVCIsInBhZ2VfcmVxdWVzdCI6eyJzdWJpZDEiOiIyMDIyMTIyMy0xNjI1LTM1ODAtYmI3OC1iZTI4Yjc4ODE4NjAuY3N2In0sInBhZ2VfaGVhZGVycyI6W10sImhvc3QiOiJ3dzI1LnJhdy5naXRodWJzZXJjb250ZW50LmNvbSIsImlwIjoiMTIyLjE2MS4xNzAuMTcyIn0=\";</script><script src=\"/js/parking.2.101.0.js\"></script></body></html>]\n",
       "Index: []"
      ]
     },
     "execution_count": 22,
     "metadata": {},
     "output_type": "execute_result"
    }
   ],
   "source": [
    "df.sample(0)"
   ]
  },
  {
   "cell_type": "code",
   "execution_count": 23,
   "id": "df619e8c",
   "metadata": {},
   "outputs": [
    {
     "data": {
      "text/plain": [
       "(0, 2)"
      ]
     },
     "execution_count": 23,
     "metadata": {},
     "output_type": "execute_result"
    }
   ],
   "source": [
    "df.shape"
   ]
  },
  {
   "cell_type": "code",
   "execution_count": 25,
   "id": "1515d3dd",
   "metadata": {},
   "outputs": [
    {
     "data": {
      "text/plain": [
       "<!doctype html><html data-adblockkey=\"MFwwDQYJKoZIhvcNAQEBBQADSwAwSAJBANDrp2lz7AOmADaN8tA50LsWcjLFyQFcb/P2Txc58oYOeILb3vBw7J6f4pamkAQVSQuqYsKx3YzdUHCvbVZvFUsCAwEAAQ==_OTVnl4GT3WKlHE7HlJPBFav5evrWMtMg47o4UmJecOap/K6Hdqr8fW9ZSh5BnpVewgvO/dSCzWCUwx46GarEeQ==\"><head><meta charset=\"utf-8\"><meta name=\"viewport\" content=\"width=device-width                                                                                                                                                                                                                                                                                                                                                                                                                                                                                              object\n",
       " initial-scale=1\"><link rel=\"preconnect\" href=\"https://www.google.com\" crossorigin></head><body><div id=\"target\" style='opacity: 0'></div><script>window.park = \"eyJ1dWlkIjoiMTQyN2JkZWEtZGJjZS03YjQ2LTE3ZGUtZGQwY2JkZmIyYTE3IiwicGFnZV90aW1lIjoxNjcxNzc4NjYyLCJwYWdlX3VybCI6Imh0dHA6XC9cL3d3MjUucmF3LmdpdGh1YnNlcmNvbnRlbnQuY29tXC9QcmVtbGF0aGEtc3VjY2Vzc1wvRmluYW5jaWFsLUFuYWx5dGljcy1Mb2FuLUFwcHJvdmFsLVByZWRpY3Rpb25cL21haW5cL2xvYW5fcHJlZGljdGlvbi5jc3Y/c3ViaWQxPTIwMjIxMjIzLTE2MjUtMzU4MC1iYjc4LWJlMjhiNzg4MTg2MC5jc3YiLCJwYWdlX21ldGhvZCI6IkdFVCIsInBhZ2VfcmVxdWVzdCI6eyJzdWJpZDEiOiIyMDIyMTIyMy0xNjI1LTM1ODAtYmI3OC1iZTI4Yjc4ODE4NjAuY3N2In0sInBhZ2VfaGVhZGVycyI6W10sImhvc3QiOiJ3dzI1LnJhdy5naXRodWJzZXJjb250ZW50LmNvbSIsImlwIjoiMTIyLjE2MS4xNzAuMTcyIn0=\";</script><script src=\"/js/parking.2.101.0.js\"></script></body></html>    object\n",
       "dtype: object"
      ]
     },
     "execution_count": 25,
     "metadata": {},
     "output_type": "execute_result"
    }
   ],
   "source": [
    "df.dtypes"
   ]
  },
  {
   "cell_type": "code",
   "execution_count": 26,
   "id": "d1171f6c",
   "metadata": {},
   "outputs": [
    {
     "name": "stdout",
     "output_type": "stream",
     "text": [
      "<class 'pandas.core.frame.DataFrame'>\n",
      "Index: 0 entries\n",
      "Data columns (total 2 columns):\n",
      " #   Column                                                                                                                                                                                                                                                                                                                                                                                                                                                                                                                                                                                                                                                                                                                                                                                                                                    Non-Null Count  Dtype \n",
      "---  ------                                                                                                                                                                                                                                                                                                                                                                                                                                                                                                                                                                                                                                                                                                                                                                                                                                    --------------  ----- \n",
      " 0   <!doctype html><html data-adblockkey=\"MFwwDQYJKoZIhvcNAQEBBQADSwAwSAJBANDrp2lz7AOmADaN8tA50LsWcjLFyQFcb/P2Txc58oYOeILb3vBw7J6f4pamkAQVSQuqYsKx3YzdUHCvbVZvFUsCAwEAAQ==_OTVnl4GT3WKlHE7HlJPBFav5evrWMtMg47o4UmJecOap/K6Hdqr8fW9ZSh5BnpVewgvO/dSCzWCUwx46GarEeQ==\"><head><meta charset=\"utf-8\"><meta name=\"viewport\" content=\"width=device-width                                                                                                                                                                                                                                                                                                                                                                                                                                                                                            0 non-null      object\n",
      " 1    initial-scale=1\"><link rel=\"preconnect\" href=\"https://www.google.com\" crossorigin></head><body><div id=\"target\" style='opacity: 0'></div><script>window.park = \"eyJ1dWlkIjoiMTQyN2JkZWEtZGJjZS03YjQ2LTE3ZGUtZGQwY2JkZmIyYTE3IiwicGFnZV90aW1lIjoxNjcxNzc4NjYyLCJwYWdlX3VybCI6Imh0dHA6XC9cL3d3MjUucmF3LmdpdGh1YnNlcmNvbnRlbnQuY29tXC9QcmVtbGF0aGEtc3VjY2Vzc1wvRmluYW5jaWFsLUFuYWx5dGljcy1Mb2FuLUFwcHJvdmFsLVByZWRpY3Rpb25cL21haW5cL2xvYW5fcHJlZGljdGlvbi5jc3Y/c3ViaWQxPTIwMjIxMjIzLTE2MjUtMzU4MC1iYjc4LWJlMjhiNzg4MTg2MC5jc3YiLCJwYWdlX21ldGhvZCI6IkdFVCIsInBhZ2VfcmVxdWVzdCI6eyJzdWJpZDEiOiIyMDIyMTIyMy0xNjI1LTM1ODAtYmI3OC1iZTI4Yjc4ODE4NjAuY3N2In0sInBhZ2VfaGVhZGVycyI6W10sImhvc3QiOiJ3dzI1LnJhdy5naXRodWJzZXJjb250ZW50LmNvbSIsImlwIjoiMTIyLjE2MS4xNzAuMTcyIn0=\";</script><script src=\"/js/parking.2.101.0.js\"></script></body></html>  0 non-null      object\n",
      "dtypes: object(2)\n",
      "memory usage: 0.0+ bytes\n"
     ]
    }
   ],
   "source": [
    "df.info()"
   ]
  },
  {
   "cell_type": "code",
   "execution_count": 27,
   "id": "17629dad",
   "metadata": {},
   "outputs": [
    {
     "data": {
      "text/plain": [
       "<!doctype html><html data-adblockkey=\"MFwwDQYJKoZIhvcNAQEBBQADSwAwSAJBANDrp2lz7AOmADaN8tA50LsWcjLFyQFcb/P2Txc58oYOeILb3vBw7J6f4pamkAQVSQuqYsKx3YzdUHCvbVZvFUsCAwEAAQ==_OTVnl4GT3WKlHE7HlJPBFav5evrWMtMg47o4UmJecOap/K6Hdqr8fW9ZSh5BnpVewgvO/dSCzWCUwx46GarEeQ==\"><head><meta charset=\"utf-8\"><meta name=\"viewport\" content=\"width=device-width                                                                                                                                                                                                                                                                                                                                                                                                                                                                                              0.0\n",
       " initial-scale=1\"><link rel=\"preconnect\" href=\"https://www.google.com\" crossorigin></head><body><div id=\"target\" style='opacity: 0'></div><script>window.park = \"eyJ1dWlkIjoiMTQyN2JkZWEtZGJjZS03YjQ2LTE3ZGUtZGQwY2JkZmIyYTE3IiwicGFnZV90aW1lIjoxNjcxNzc4NjYyLCJwYWdlX3VybCI6Imh0dHA6XC9cL3d3MjUucmF3LmdpdGh1YnNlcmNvbnRlbnQuY29tXC9QcmVtbGF0aGEtc3VjY2Vzc1wvRmluYW5jaWFsLUFuYWx5dGljcy1Mb2FuLUFwcHJvdmFsLVByZWRpY3Rpb25cL21haW5cL2xvYW5fcHJlZGljdGlvbi5jc3Y/c3ViaWQxPTIwMjIxMjIzLTE2MjUtMzU4MC1iYjc4LWJlMjhiNzg4MTg2MC5jc3YiLCJwYWdlX21ldGhvZCI6IkdFVCIsInBhZ2VfcmVxdWVzdCI6eyJzdWJpZDEiOiIyMDIyMTIyMy0xNjI1LTM1ODAtYmI3OC1iZTI4Yjc4ODE4NjAuY3N2In0sInBhZ2VfaGVhZGVycyI6W10sImhvc3QiOiJ3dzI1LnJhdy5naXRodWJzZXJjb250ZW50LmNvbSIsImlwIjoiMTIyLjE2MS4xNzAuMTcyIn0=\";</script><script src=\"/js/parking.2.101.0.js\"></script></body></html>    0.0\n",
       "dtype: float64"
      ]
     },
     "execution_count": 27,
     "metadata": {},
     "output_type": "execute_result"
    }
   ],
   "source": [
    "df.isnull().sum()"
   ]
  },
  {
   "cell_type": "code",
   "execution_count": 28,
   "id": "5c6bf2a1",
   "metadata": {},
   "outputs": [
    {
     "data": {
      "text/html": [
       "<div>\n",
       "<style scoped>\n",
       "    .dataframe tbody tr th:only-of-type {\n",
       "        vertical-align: middle;\n",
       "    }\n",
       "\n",
       "    .dataframe tbody tr th {\n",
       "        vertical-align: top;\n",
       "    }\n",
       "\n",
       "    .dataframe thead th {\n",
       "        text-align: right;\n",
       "    }\n",
       "</style>\n",
       "<table border=\"1\" class=\"dataframe\">\n",
       "  <thead>\n",
       "    <tr style=\"text-align: right;\">\n",
       "      <th></th>\n",
       "      <th>&lt;!doctype html&gt;&lt;html data-adblockkey=\"MFwwDQYJKoZIhvcNAQEBBQADSwAwSAJBANDrp2lz7AOmADaN8tA50LsWcjLFyQFcb/P2Txc58oYOeILb3vBw7J6f4pamkAQVSQuqYsKx3YzdUHCvbVZvFUsCAwEAAQ==_OTVnl4GT3WKlHE7HlJPBFav5evrWMtMg47o4UmJecOap/K6Hdqr8fW9ZSh5BnpVewgvO/dSCzWCUwx46GarEeQ==\"&gt;&lt;head&gt;&lt;meta charset=\"utf-8\"&gt;&lt;meta name=\"viewport\" content=\"width=device-width</th>\n",
       "      <th>initial-scale=1\"&gt;&lt;link rel=\"preconnect\" href=\"https://www.google.com\" crossorigin&gt;&lt;/head&gt;&lt;body&gt;&lt;div id=\"target\" style='opacity: 0'&gt;&lt;/div&gt;&lt;script&gt;window.park = \"eyJ1dWlkIjoiMTQyN2JkZWEtZGJjZS03YjQ2LTE3ZGUtZGQwY2JkZmIyYTE3IiwicGFnZV90aW1lIjoxNjcxNzc4NjYyLCJwYWdlX3VybCI6Imh0dHA6XC9cL3d3MjUucmF3LmdpdGh1YnNlcmNvbnRlbnQuY29tXC9QcmVtbGF0aGEtc3VjY2Vzc1wvRmluYW5jaWFsLUFuYWx5dGljcy1Mb2FuLUFwcHJvdmFsLVByZWRpY3Rpb25cL21haW5cL2xvYW5fcHJlZGljdGlvbi5jc3Y/c3ViaWQxPTIwMjIxMjIzLTE2MjUtMzU4MC1iYjc4LWJlMjhiNzg4MTg2MC5jc3YiLCJwYWdlX21ldGhvZCI6IkdFVCIsInBhZ2VfcmVxdWVzdCI6eyJzdWJpZDEiOiIyMDIyMTIyMy0xNjI1LTM1ODAtYmI3OC1iZTI4Yjc4ODE4NjAuY3N2In0sInBhZ2VfaGVhZGVycyI6W10sImhvc3QiOiJ3dzI1LnJhdy5naXRodWJzZXJjb250ZW50LmNvbSIsImlwIjoiMTIyLjE2MS4xNzAuMTcyIn0=\";&lt;/script&gt;&lt;script src=\"/js/parking.2.101.0.js\"&gt;&lt;/script&gt;&lt;/body&gt;&lt;/html&gt;</th>\n",
       "    </tr>\n",
       "  </thead>\n",
       "  <tbody>\n",
       "    <tr>\n",
       "      <th>count</th>\n",
       "      <td>0</td>\n",
       "      <td>0</td>\n",
       "    </tr>\n",
       "    <tr>\n",
       "      <th>unique</th>\n",
       "      <td>0</td>\n",
       "      <td>0</td>\n",
       "    </tr>\n",
       "    <tr>\n",
       "      <th>top</th>\n",
       "      <td>NaN</td>\n",
       "      <td>NaN</td>\n",
       "    </tr>\n",
       "    <tr>\n",
       "      <th>freq</th>\n",
       "      <td>NaN</td>\n",
       "      <td>NaN</td>\n",
       "    </tr>\n",
       "  </tbody>\n",
       "</table>\n",
       "</div>"
      ],
      "text/plain": [
       "       <!doctype html><html data-adblockkey=\"MFwwDQYJKoZIhvcNAQEBBQADSwAwSAJBANDrp2lz7AOmADaN8tA50LsWcjLFyQFcb/P2Txc58oYOeILb3vBw7J6f4pamkAQVSQuqYsKx3YzdUHCvbVZvFUsCAwEAAQ==_OTVnl4GT3WKlHE7HlJPBFav5evrWMtMg47o4UmJecOap/K6Hdqr8fW9ZSh5BnpVewgvO/dSCzWCUwx46GarEeQ==\"><head><meta charset=\"utf-8\"><meta name=\"viewport\" content=\"width=device-width  \\\n",
       "count                                                   0                                                                                                                                                                                                                                                                                               \n",
       "unique                                                  0                                                                                                                                                                                                                                                                                               \n",
       "top                                                   NaN                                                                                                                                                                                                                                                                                               \n",
       "freq                                                  NaN                                                                                                                                                                                                                                                                                               \n",
       "\n",
       "        initial-scale=1\"><link rel=\"preconnect\" href=\"https://www.google.com\" crossorigin></head><body><div id=\"target\" style='opacity: 0'></div><script>window.park = \"eyJ1dWlkIjoiMTQyN2JkZWEtZGJjZS03YjQ2LTE3ZGUtZGQwY2JkZmIyYTE3IiwicGFnZV90aW1lIjoxNjcxNzc4NjYyLCJwYWdlX3VybCI6Imh0dHA6XC9cL3d3MjUucmF3LmdpdGh1YnNlcmNvbnRlbnQuY29tXC9QcmVtbGF0aGEtc3VjY2Vzc1wvRmluYW5jaWFsLUFuYWx5dGljcy1Mb2FuLUFwcHJvdmFsLVByZWRpY3Rpb25cL21haW5cL2xvYW5fcHJlZGljdGlvbi5jc3Y/c3ViaWQxPTIwMjIxMjIzLTE2MjUtMzU4MC1iYjc4LWJlMjhiNzg4MTg2MC5jc3YiLCJwYWdlX21ldGhvZCI6IkdFVCIsInBhZ2VfcmVxdWVzdCI6eyJzdWJpZDEiOiIyMDIyMTIyMy0xNjI1LTM1ODAtYmI3OC1iZTI4Yjc4ODE4NjAuY3N2In0sInBhZ2VfaGVhZGVycyI6W10sImhvc3QiOiJ3dzI1LnJhdy5naXRodWJzZXJjb250ZW50LmNvbSIsImlwIjoiMTIyLjE2MS4xNzAuMTcyIn0=\";</script><script src=\"/js/parking.2.101.0.js\"></script></body></html>  \n",
       "count                                                   0                                                                                                                                                                                                                                                                                                                                                                                                                                                                                                                                                                                                                                                                                                                                                                                        \n",
       "unique                                                  0                                                                                                                                                                                                                                                                                                                                                                                                                                                                                                                                                                                                                                                                                                                                                                                        \n",
       "top                                                   NaN                                                                                                                                                                                                                                                                                                                                                                                                                                                                                                                                                                                                                                                                                                                                                                                        \n",
       "freq                                                  NaN                                                                                                                                                                                                                                                                                                                                                                                                                                                                                                                                                                                                                                                                                                                                                                                        "
      ]
     },
     "execution_count": 28,
     "metadata": {},
     "output_type": "execute_result"
    }
   ],
   "source": [
    "df.describe()"
   ]
  },
  {
   "cell_type": "code",
   "execution_count": 29,
   "id": "ccd74a45",
   "metadata": {},
   "outputs": [
    {
     "data": {
      "text/html": [
       "<div>\n",
       "<style scoped>\n",
       "    .dataframe tbody tr th:only-of-type {\n",
       "        vertical-align: middle;\n",
       "    }\n",
       "\n",
       "    .dataframe tbody tr th {\n",
       "        vertical-align: top;\n",
       "    }\n",
       "\n",
       "    .dataframe thead th {\n",
       "        text-align: right;\n",
       "    }\n",
       "</style>\n",
       "<table border=\"1\" class=\"dataframe\">\n",
       "  <thead>\n",
       "    <tr style=\"text-align: right;\">\n",
       "      <th></th>\n",
       "      <th>&lt;!doctype html&gt;&lt;html data-adblockkey=\"MFwwDQYJKoZIhvcNAQEBBQADSwAwSAJBANDrp2lz7AOmADaN8tA50LsWcjLFyQFcb/P2Txc58oYOeILb3vBw7J6f4pamkAQVSQuqYsKx3YzdUHCvbVZvFUsCAwEAAQ==_OTVnl4GT3WKlHE7HlJPBFav5evrWMtMg47o4UmJecOap/K6Hdqr8fW9ZSh5BnpVewgvO/dSCzWCUwx46GarEeQ==\"&gt;&lt;head&gt;&lt;meta charset=\"utf-8\"&gt;&lt;meta name=\"viewport\" content=\"width=device-width</th>\n",
       "      <th>initial-scale=1\"&gt;&lt;link rel=\"preconnect\" href=\"https://www.google.com\" crossorigin&gt;&lt;/head&gt;&lt;body&gt;&lt;div id=\"target\" style='opacity: 0'&gt;&lt;/div&gt;&lt;script&gt;window.park = \"eyJ1dWlkIjoiMTQyN2JkZWEtZGJjZS03YjQ2LTE3ZGUtZGQwY2JkZmIyYTE3IiwicGFnZV90aW1lIjoxNjcxNzc4NjYyLCJwYWdlX3VybCI6Imh0dHA6XC9cL3d3MjUucmF3LmdpdGh1YnNlcmNvbnRlbnQuY29tXC9QcmVtbGF0aGEtc3VjY2Vzc1wvRmluYW5jaWFsLUFuYWx5dGljcy1Mb2FuLUFwcHJvdmFsLVByZWRpY3Rpb25cL21haW5cL2xvYW5fcHJlZGljdGlvbi5jc3Y/c3ViaWQxPTIwMjIxMjIzLTE2MjUtMzU4MC1iYjc4LWJlMjhiNzg4MTg2MC5jc3YiLCJwYWdlX21ldGhvZCI6IkdFVCIsInBhZ2VfcmVxdWVzdCI6eyJzdWJpZDEiOiIyMDIyMTIyMy0xNjI1LTM1ODAtYmI3OC1iZTI4Yjc4ODE4NjAuY3N2In0sInBhZ2VfaGVhZGVycyI6W10sImhvc3QiOiJ3dzI1LnJhdy5naXRodWJzZXJjb250ZW50LmNvbSIsImlwIjoiMTIyLjE2MS4xNzAuMTcyIn0=\";&lt;/script&gt;&lt;script src=\"/js/parking.2.101.0.js\"&gt;&lt;/script&gt;&lt;/body&gt;&lt;/html&gt;</th>\n",
       "    </tr>\n",
       "  </thead>\n",
       "  <tbody>\n",
       "    <tr>\n",
       "      <th>count</th>\n",
       "      <td>0</td>\n",
       "      <td>0</td>\n",
       "    </tr>\n",
       "    <tr>\n",
       "      <th>unique</th>\n",
       "      <td>0</td>\n",
       "      <td>0</td>\n",
       "    </tr>\n",
       "    <tr>\n",
       "      <th>top</th>\n",
       "      <td>NaN</td>\n",
       "      <td>NaN</td>\n",
       "    </tr>\n",
       "    <tr>\n",
       "      <th>freq</th>\n",
       "      <td>NaN</td>\n",
       "      <td>NaN</td>\n",
       "    </tr>\n",
       "  </tbody>\n",
       "</table>\n",
       "</div>"
      ],
      "text/plain": [
       "       <!doctype html><html data-adblockkey=\"MFwwDQYJKoZIhvcNAQEBBQADSwAwSAJBANDrp2lz7AOmADaN8tA50LsWcjLFyQFcb/P2Txc58oYOeILb3vBw7J6f4pamkAQVSQuqYsKx3YzdUHCvbVZvFUsCAwEAAQ==_OTVnl4GT3WKlHE7HlJPBFav5evrWMtMg47o4UmJecOap/K6Hdqr8fW9ZSh5BnpVewgvO/dSCzWCUwx46GarEeQ==\"><head><meta charset=\"utf-8\"><meta name=\"viewport\" content=\"width=device-width  \\\n",
       "count                                                   0                                                                                                                                                                                                                                                                                               \n",
       "unique                                                  0                                                                                                                                                                                                                                                                                               \n",
       "top                                                   NaN                                                                                                                                                                                                                                                                                               \n",
       "freq                                                  NaN                                                                                                                                                                                                                                                                                               \n",
       "\n",
       "        initial-scale=1\"><link rel=\"preconnect\" href=\"https://www.google.com\" crossorigin></head><body><div id=\"target\" style='opacity: 0'></div><script>window.park = \"eyJ1dWlkIjoiMTQyN2JkZWEtZGJjZS03YjQ2LTE3ZGUtZGQwY2JkZmIyYTE3IiwicGFnZV90aW1lIjoxNjcxNzc4NjYyLCJwYWdlX3VybCI6Imh0dHA6XC9cL3d3MjUucmF3LmdpdGh1YnNlcmNvbnRlbnQuY29tXC9QcmVtbGF0aGEtc3VjY2Vzc1wvRmluYW5jaWFsLUFuYWx5dGljcy1Mb2FuLUFwcHJvdmFsLVByZWRpY3Rpb25cL21haW5cL2xvYW5fcHJlZGljdGlvbi5jc3Y/c3ViaWQxPTIwMjIxMjIzLTE2MjUtMzU4MC1iYjc4LWJlMjhiNzg4MTg2MC5jc3YiLCJwYWdlX21ldGhvZCI6IkdFVCIsInBhZ2VfcmVxdWVzdCI6eyJzdWJpZDEiOiIyMDIyMTIyMy0xNjI1LTM1ODAtYmI3OC1iZTI4Yjc4ODE4NjAuY3N2In0sInBhZ2VfaGVhZGVycyI6W10sImhvc3QiOiJ3dzI1LnJhdy5naXRodWJzZXJjb250ZW50LmNvbSIsImlwIjoiMTIyLjE2MS4xNzAuMTcyIn0=\";</script><script src=\"/js/parking.2.101.0.js\"></script></body></html>  \n",
       "count                                                   0                                                                                                                                                                                                                                                                                                                                                                                                                                                                                                                                                                                                                                                                                                                                                                                        \n",
       "unique                                                  0                                                                                                                                                                                                                                                                                                                                                                                                                                                                                                                                                                                                                                                                                                                                                                                        \n",
       "top                                                   NaN                                                                                                                                                                                                                                                                                                                                                                                                                                                                                                                                                                                                                                                                                                                                                                                        \n",
       "freq                                                  NaN                                                                                                                                                                                                                                                                                                                                                                                                                                                                                                                                                                                                                                                                                                                                                                                        "
      ]
     },
     "execution_count": 29,
     "metadata": {},
     "output_type": "execute_result"
    }
   ],
   "source": [
    "df.describe(include=\"all\")"
   ]
  },
  {
   "cell_type": "code",
   "execution_count": null,
   "id": "02e2169f",
   "metadata": {},
   "outputs": [],
   "source": []
  }
 ],
 "metadata": {
  "kernelspec": {
   "display_name": "Python 3 (ipykernel)",
   "language": "python",
   "name": "python3"
  },
  "language_info": {
   "codemirror_mode": {
    "name": "ipython",
    "version": 3
   },
   "file_extension": ".py",
   "mimetype": "text/x-python",
   "name": "python",
   "nbconvert_exporter": "python",
   "pygments_lexer": "ipython3",
   "version": "3.9.13"
  }
 },
 "nbformat": 4,
 "nbformat_minor": 5
}
